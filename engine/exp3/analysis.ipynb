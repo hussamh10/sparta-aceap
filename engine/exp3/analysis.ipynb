{
 "cells": [
  {
   "cell_type": "code",
   "execution_count": 1,
   "metadata": {},
   "outputs": [],
   "source": [
    "import json\n",
    "import pandas\n",
    "import sqlite3 as sql\n",
    "import pickle as pkl\n",
    "\n",
    "from experiment.Subject import Subject\n",
    "from experiment.Experiment import Experiment\n",
    "\n",
    "config_file = 'config.json'\n",
    "config = json.load(open('config.json', 'r'))"
   ]
  },
  {
   "cell_type": "code",
   "execution_count": 2,
   "metadata": {},
   "outputs": [
    {
     "name": "stdout",
     "output_type": "stream",
     "text": [
      "DEBUG:  Loading experiment config\n",
      "DEBUG:  Loading experiment\n"
     ]
    }
   ],
   "source": [
    "experiment = Experiment(config_file)\n",
    "experiment.load_from_pickle()"
   ]
  },
  {
   "cell_type": "code",
   "execution_count": 3,
   "metadata": {},
   "outputs": [],
   "source": [
    "reddit_subjects = experiment.get_subjects('reddit')\n",
    "twitter_subjects = experiment.get_subjects('twitter')"
   ]
  },
  {
   "cell_type": "code",
   "execution_count": 4,
   "metadata": {},
   "outputs": [],
   "source": [
    "users = []\n",
    "for user in reddit_subjects:\n",
    "    treatments = user.get_treatments() \n",
    "    for tick in treatments:\n",
    "        pre, post = user.get_observations(tick)\n",
    "        treatments[tick]['pre'] = pre\n",
    "        treatments[tick]['post'] = post\n",
    "    users.append(treatments)"
   ]
  }
 ],
 "metadata": {
  "kernelspec": {
   "display_name": "Python 3",
   "language": "python",
   "name": "python3"
  },
  "language_info": {
   "codemirror_mode": {
    "name": "ipython",
    "version": 3
   },
   "file_extension": ".py",
   "mimetype": "text/x-python",
   "name": "python",
   "nbconvert_exporter": "python",
   "pygments_lexer": "ipython3",
   "version": "3.11.7"
  }
 },
 "nbformat": 4,
 "nbformat_minor": 2
}

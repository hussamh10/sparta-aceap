{
 "cells": [
  {
   "cell_type": "code",
   "execution_count": 7,
   "metadata": {},
   "outputs": [],
   "source": [
    "import json\n",
    "from experiment.Experiment import Experiment\n",
    "from account_creation.GoogleWorkspace import GoogleWorkspace\n",
    "from utils import shuffleIP as IP\n",
    "from utils.log import debug, error\n",
    "from utils.util import wait, bigWait"
   ]
  },
  {
   "cell_type": "code",
   "execution_count": 8,
   "metadata": {},
   "outputs": [
    {
     "name": "stdout",
     "output_type": "stream",
     "text": [
      "{'treatments': [{'action': 'like', 'topic': 'oscars'}, {'action': 'follow', 'topic': 'oscars'}, {'action': '', 'topic': ''}], 'replication': 2, 'days': 2, 'experiment_id': 'xp7', 'platforms': ['YouTube', 'Reddit', 'Twitter', 'Facebook'], 'email_template': 'xp7aceap', 'database': 'experiment.db', 'path': 'C:\\\\Users\\\\hussa\\\\Desktop\\\\sparta-aceap\\\\engine\\\\exp7\\\\data'}\n"
     ]
    }
   ],
   "source": [
    "config = json.load(open('config.json', 'r'))\n",
    "platforms = config['platforms']\n",
    "print(config)"
   ]
  },
  {
   "cell_type": "code",
   "execution_count": 9,
   "metadata": {},
   "outputs": [
    {
     "name": "stdout",
     "output_type": "stream",
     "text": [
      "\u001b[33mneedUsers:\u001b[30m\t Users required: 6\n",
      "\u001b[33mneedUsers:\u001b[30m\t Enough users already created: [{'fname': 'Mac', 'lname': 'Howton', 'email': 'xp7aceap0@spartaaceap.com', 'id': 'xp7aceap0', 'exp': 'xp7', 'google_signin': None, 'chrome_signin': 1, 'chrome_session': 'xp7aceap0', 'reddit': 1, 'twitter': 1, 'youtube': 1, 'tiktok': None, 'facebook': 1}, {'fname': 'Bobbie', 'lname': 'Saylor', 'email': 'xp7aceap1@spartaaceap.com', 'id': 'xp7aceap1', 'exp': 'xp7', 'google_signin': None, 'chrome_signin': 1, 'chrome_session': 'xp7aceap1', 'reddit': 1, 'twitter': 1, 'youtube': 1, 'tiktok': None, 'facebook': 1}, {'fname': 'Monica', 'lname': 'Deutsch', 'email': 'xp7aceap2@spartaaceap.com', 'id': 'xp7aceap2', 'exp': 'xp7', 'google_signin': None, 'chrome_signin': 1, 'chrome_session': 'xp7aceap2', 'reddit': 1, 'twitter': 1, 'youtube': 1, 'tiktok': None, 'facebook': 1}, {'fname': 'Jeff', 'lname': 'Wilson', 'email': 'xp7aceap3@spartaaceap.com', 'id': 'xp7aceap3', 'exp': 'xp7', 'google_signin': None, 'chrome_signin': 1, 'chrome_session': 'xp7aceap3', 'reddit': 1, 'twitter': 1, 'youtube': 1, 'tiktok': None, 'facebook': 1}, {'fname': 'William', 'lname': 'Qualls', 'email': 'xp7aceap4@spartaaceap.com', 'id': 'xp7aceap4', 'exp': 'xp7', 'google_signin': None, 'chrome_signin': 1, 'chrome_session': 'xp7aceap4', 'reddit': 1, 'twitter': 1, 'youtube': 1, 'tiktok': None, 'facebook': 1}, {'fname': 'Stephen', 'lname': 'Thomas', 'email': 'xp7aceap5@spartaaceap.com', 'id': 'xp7aceap5', 'exp': 'xp7', 'google_signin': None, 'chrome_signin': 1, 'chrome_session': 'xp7aceap5', 'reddit': 1, 'twitter': 1, 'youtube': 1, 'tiktok': None, 'facebook': 1}, {'fname': 'Melanie', 'lname': 'Salazar', 'email': 'xp7aceap0@spartaaceap.com', 'id': 'xp7aceap0', 'exp': 'xp7', 'google_signin': None, 'chrome_signin': 1, 'chrome_session': 'xp7aceap0', 'reddit': 1, 'twitter': 1, 'youtube': 1, 'tiktok': None, 'facebook': 1}, {'fname': 'Rachel', 'lname': 'Cox', 'email': 'xp7aceap1@spartaaceap.com', 'id': 'xp7aceap1', 'exp': 'xp7', 'google_signin': None, 'chrome_signin': 1, 'chrome_session': 'xp7aceap1', 'reddit': 1, 'twitter': 1, 'youtube': 1, 'tiktok': None, 'facebook': 1}, {'fname': 'Morris', 'lname': 'Downing', 'email': 'xp7aceap2@spartaaceap.com', 'id': 'xp7aceap2', 'exp': 'xp7', 'google_signin': None, 'chrome_signin': 1, 'chrome_session': 'xp7aceap2', 'reddit': 1, 'twitter': 1, 'youtube': 1, 'tiktok': None, 'facebook': 1}, {'fname': 'Phil', 'lname': 'Patton', 'email': 'xp7aceap3@spartaaceap.com', 'id': 'xp7aceap3', 'exp': 'xp7', 'google_signin': None, 'chrome_signin': 1, 'chrome_session': 'xp7aceap3', 'reddit': 1, 'twitter': 1, 'youtube': 1, 'tiktok': None, 'facebook': 1}, {'fname': 'Carolyn', 'lname': 'Frenzel', 'email': 'xp7aceap4@spartaaceap.com', 'id': 'xp7aceap4', 'exp': 'xp7', 'google_signin': None, 'chrome_signin': 1, 'chrome_session': 'xp7aceap4', 'reddit': 1, 'twitter': 1, 'youtube': 1, 'tiktok': None, 'facebook': 1}, {'fname': 'Zachary', 'lname': 'Dominguez', 'email': 'xp7aceap5@spartaaceap.com', 'id': 'xp7aceap5', 'exp': 'xp7', 'google_signin': None, 'chrome_signin': 1, 'chrome_session': 'xp7aceap5', 'reddit': 1, 'twitter': 1, 'youtube': 1, 'tiktok': None, 'facebook': 1}, {'fname': 'Todd', 'lname': 'Scott', 'email': 'xp7aceap0@spartaaceap.com', 'id': 'xp7aceap0', 'exp': 'xp7', 'google_signin': None, 'chrome_signin': 1, 'chrome_session': 'xp7aceap0', 'reddit': 1, 'twitter': 1, 'youtube': 1, 'tiktok': None, 'facebook': 1}, {'fname': 'Florence', 'lname': 'Bliss', 'email': 'xp7aceap1@spartaaceap.com', 'id': 'xp7aceap1', 'exp': 'xp7', 'google_signin': None, 'chrome_signin': 1, 'chrome_session': 'xp7aceap1', 'reddit': 1, 'twitter': 1, 'youtube': 1, 'tiktok': None, 'facebook': 1}, {'fname': 'Margaret', 'lname': 'Porter', 'email': 'xp7aceap2@spartaaceap.com', 'id': 'xp7aceap2', 'exp': 'xp7', 'google_signin': None, 'chrome_signin': 1, 'chrome_session': 'xp7aceap2', 'reddit': 1, 'twitter': 1, 'youtube': 1, 'tiktok': None, 'facebook': 1}, {'fname': 'John', 'lname': 'Miller', 'email': 'xp7aceap3@spartaaceap.com', 'id': 'xp7aceap3', 'exp': 'xp7', 'google_signin': None, 'chrome_signin': 1, 'chrome_session': 'xp7aceap3', 'reddit': 1, 'twitter': 1, 'youtube': 1, 'tiktok': None, 'facebook': 1}, {'fname': 'Yvonne', 'lname': 'Cameron', 'email': 'xp7aceap4@spartaaceap.com', 'id': 'xp7aceap4', 'exp': 'xp7', 'google_signin': None, 'chrome_signin': 1, 'chrome_session': 'xp7aceap4', 'reddit': 1, 'twitter': 1, 'youtube': 1, 'tiktok': None, 'facebook': 1}, {'fname': 'Alton', 'lname': 'Labrie', 'email': 'xp7aceap5@spartaaceap.com', 'id': 'xp7aceap5', 'exp': 'xp7', 'google_signin': None, 'chrome_signin': 1, 'chrome_session': 'xp7aceap5', 'reddit': 1, 'twitter': 1, 'youtube': 1, 'tiktok': None, 'facebook': 1}]\n"
     ]
    }
   ],
   "source": [
    "GW = GoogleWorkspace()\n",
    "if GW.needUsers(config):\n",
    "    GW.createUsers(config)"
   ]
  },
  {
   "cell_type": "code",
   "execution_count": 16,
   "metadata": {},
   "outputs": [
    {
     "name": "stdout",
     "output_type": "stream",
     "text": [
      "\u001b[33m__init__:\u001b[30m\t Loading experiment config\n",
      "\u001b[33m__init__:\u001b[30m\t Loading experiment\n",
      "\u001b[33minitiate:\u001b[30m\t Experiment YouTube already initiated.\n",
      "\u001b[33m__init__:\u001b[30m\t Loading experiment config\n",
      "\u001b[33m__init__:\u001b[30m\t Loading experiment\n",
      "\u001b[33minitiate:\u001b[30m\t Experiment Reddit already initiated.\n",
      "\u001b[33m__init__:\u001b[30m\t Loading experiment config\n",
      "\u001b[33m__init__:\u001b[30m\t Loading experiment\n",
      "\u001b[33minitiate:\u001b[30m\t Experiment Twitter already initiated.\n",
      "\u001b[33m__init__:\u001b[30m\t Loading experiment config\n",
      "\u001b[33m__init__:\u001b[30m\t Loading experiment\n",
      "\u001b[33minitiate:\u001b[30m\t Experiment Facebook already initiated.\n"
     ]
    }
   ],
   "source": [
    "experiment_subjects = dict()\n",
    "for platform in platforms:\n",
    "    experiment = Experiment('config.json', platform)\n",
    "    experiment.initiate()\n",
    "    experiment_subjects[platform] = experiment.get_subjects()\n",
    "\n",
    "subjects = dict()\n",
    "for platform in platforms:\n",
    "    for subject in experiment_subjects[platform]:\n",
    "        if subject.id not in subjects:\n",
    "            subjects[subject.id] = dict()\n",
    "        subjects[subject.id][platform] = subject"
   ]
  },
  {
   "cell_type": "code",
   "execution_count": null,
   "metadata": {},
   "outputs": [],
   "source": [
    "successful_subjects = dict()\n",
    "from utils.util import bigWait, wait\n",
    "\n",
    "subject_names = list(subjects.keys())\n",
    "for subject_name in subject_names[2:]:\n",
    "    IP.shuffle(subject_name)\n",
    "    for platform in platforms:\n",
    "        print(f'Platform: {platform}, Subject: {subject_name}')\n",
    "        subject = subjects[subject_name][platform]\n",
    "        subject.checkSignin()\n",
    "        worked = input(\"y/n\")\n",
    "        if worked == \"y\":\n",
    "            if subject_name not in successful_subjects:\n",
    "                successful_subjects[subject_name] = dict()\n",
    "            successful_subjects[subject_name][platform] = subject"
   ]
  },
  {
   "cell_type": "code",
   "execution_count": null,
   "metadata": {},
   "outputs": [],
   "source": [
    "subject_names = list(subjects.keys())[2:]\n",
    "for subject_name in subject_names:\n",
    "    IP.shuffle(subject_name)\n",
    "    for platform in subjects[subject_name]:\n",
    "        print(f'Platform: {platform}, Subject: {subject_name}')\n",
    "        subject = subjects[subject_name][platform]\n",
    "        try:\n",
    "            subject.observe(pre=True)\n",
    "        except Exception as e:\n",
    "            error(e)\n",
    "    bigWait(5)"
   ]
  },
  {
   "cell_type": "code",
   "execution_count": null,
   "metadata": {},
   "outputs": [],
   "source": [
    "subjects[subject_name]"
   ]
  },
  {
   "cell_type": "code",
   "execution_count": null,
   "metadata": {},
   "outputs": [],
   "source": [
    "subject_names = list(subjects.keys())\n",
    "for subject_name in subject_names:\n",
    "    IP.shuffle(subject_name)\n",
    "    for platform in subjects[subject_name]:\n",
    "        print(f'Platform: {platform}, Subject: {subject_name}')\n",
    "        subject = subjects[subject_name][platform]\n",
    "        if platform == 'YouTube':\n",
    "            subject.platformSignIn()\n",
    "        try:\n",
    "            subject.treatment()\n",
    "        except Exception as e:\n",
    "            error(e)\n",
    "    # bigWait(5)"
   ]
  },
  {
   "cell_type": "code",
   "execution_count": null,
   "metadata": {},
   "outputs": [],
   "source": [
    "subject_names = list(subjects.keys())\n",
    "for subject_name in subject_names:\n",
    "    IP.shuffle(subject_name)\n",
    "    for platform in subjects[subject_name]:\n",
    "        print(f'Platform: {platform}, Subject: {subject_name}')\n",
    "        subject = subjects[subject_name][platform]\n",
    "        try:\n",
    "            subject.observe()\n",
    "        except Exception as e:\n",
    "            error(e)\n",
    "    bigWait(5)"
   ]
  },
  {
   "cell_type": "code",
   "execution_count": 18,
   "metadata": {},
   "outputs": [
    {
     "name": "stdout",
     "output_type": "stream",
     "text": [
      "\u001b[32m<module>:\u001b[31m\t 'like_oscars_0'\n",
      "\u001b[32m<module>:\u001b[31m\t 'like_oscars_0'\n",
      "\u001b[32m<module>:\u001b[31m\t 'like_oscars_0'\n",
      "\u001b[32m<module>:\u001b[31m\t 'like_oscars_0'\n",
      "\u001b[32m<module>:\u001b[31m\t 'like_oscars_1'\n",
      "\u001b[32m<module>:\u001b[31m\t 'like_oscars_1'\n",
      "\u001b[32m<module>:\u001b[31m\t 'like_oscars_1'\n",
      "\u001b[32m<module>:\u001b[31m\t 'like_oscars_1'\n",
      "\u001b[32m<module>:\u001b[31m\t 'follow_oscars_0'\n",
      "\u001b[32m<module>:\u001b[31m\t 'follow_oscars_0'\n",
      "\u001b[32m<module>:\u001b[31m\t 'follow_oscars_0'\n",
      "\u001b[32m<module>:\u001b[31m\t 'follow_oscars_0'\n",
      "\u001b[32m<module>:\u001b[31m\t 'follow_oscars_1'\n",
      "\u001b[32m<module>:\u001b[31m\t 'follow_oscars_1'\n",
      "\u001b[32m<module>:\u001b[31m\t 'follow_oscars_1'\n",
      "\u001b[32m<module>:\u001b[31m\t 'follow_oscars_1'\n",
      "\u001b[32m<module>:\u001b[31m\t '__0'\n",
      "\u001b[32m<module>:\u001b[31m\t '__0'\n",
      "\u001b[32m<module>:\u001b[31m\t '__0'\n",
      "\u001b[32m<module>:\u001b[31m\t '__0'\n",
      "\u001b[32m<module>:\u001b[31m\t '__1'\n",
      "\u001b[32m<module>:\u001b[31m\t '__1'\n",
      "\u001b[32m<module>:\u001b[31m\t '__1'\n",
      "\u001b[32m<module>:\u001b[31m\t '__1'\n"
     ]
    }
   ],
   "source": [
    "treatments = dict()\n",
    "subject_names = list(subjects.keys())\n",
    "for subject_name in subject_names:\n",
    "    treatments[subject_name] = dict()\n",
    "    for platform in subjects[subject_name]:\n",
    "        try:\n",
    "            treatments[subject_name][platform] = subject.get_treatments()\n",
    "        except Exception as e:\n",
    "            error(e)"
   ]
  },
  {
   "cell_type": "code",
   "execution_count": 12,
   "metadata": {},
   "outputs": [
    {
     "data": {
      "text/plain": [
       "['YouTube', 'Reddit', 'Twitter', 'Facebook']"
      ]
     },
     "execution_count": 12,
     "metadata": {},
     "output_type": "execute_result"
    }
   ],
   "source": [
    "platforms"
   ]
  },
  {
   "cell_type": "code",
   "execution_count": null,
   "metadata": {},
   "outputs": [],
   "source": []
  },
  {
   "cell_type": "code",
   "execution_count": null,
   "metadata": {},
   "outputs": [],
   "source": [
    "import pickle as pkl\n",
    "import pandas as pd\n",
    "import json\n",
    "import sqlite3 as sql\n",
    "\n",
    "from experiment.Experiment import Experiment\n",
    "from experiment.Subject import Subject\n",
    "\n",
    "def uploadResults(platform):\n",
    "    config_file = 'config.json'\n",
    "    config = json.load(open(config_file, 'r'))\n",
    "    experiment = Experiment(config_file, platform)\n",
    "    subjects = experiment.get_subjects()\n",
    "\n",
    "    users = []\n",
    "    for user in subjects:\n",
    "        treatments = user.get_treatments()\n",
    "        for tick in treatments:\n",
    "            pre, post = user.get_observations(tick)\n",
    "            treatments[tick]['pre'] = pre\n",
    "            treatments[tick]['post'] = post\n",
    "\n",
    "        users.append(treatments)\n",
    "\n",
    "    pkl.dump(users, open(f'{platform}-results.pkl', 'wb'))\n",
    "\n",
    "    return users"
   ]
  }
 ],
 "metadata": {
  "kernelspec": {
   "display_name": "Python 3",
   "language": "python",
   "name": "python3"
  },
  "language_info": {
   "codemirror_mode": {
    "name": "ipython",
    "version": 3
   },
   "file_extension": ".py",
   "mimetype": "text/x-python",
   "name": "python",
   "nbconvert_exporter": "python",
   "pygments_lexer": "ipython3",
   "version": "3.11.8"
  }
 },
 "nbformat": 4,
 "nbformat_minor": 2
}

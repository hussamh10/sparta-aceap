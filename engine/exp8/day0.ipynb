{
 "cells": [
  {
   "cell_type": "code",
   "execution_count": null,
   "metadata": {},
   "outputs": [],
   "source": [
    "import json\n",
    "from experiment.Experiment import Experiment\n",
    "from account_creation.GoogleWorkspace import GoogleWorkspace\n",
    "from utils import shuffleIP as IP\n",
    "from utils.log import debug, error\n",
    "from utils.util import wait, bigWait\n",
    "\n",
    "config = json.load(open('config.json', 'r'))\n",
    "platforms = config['platforms']\n",
    "print(config)"
   ]
  },
  {
   "cell_type": "code",
   "execution_count": null,
   "metadata": {},
   "outputs": [],
   "source": [
    "GW = GoogleWorkspace()\n",
    "if GW.needUsers(config):\n",
    "    GW.createUsers(config)"
   ]
  },
  {
   "cell_type": "code",
   "execution_count": null,
   "metadata": {},
   "outputs": [],
   "source": [
    "experiment_subjects = dict()\n",
    "for platform in platforms:\n",
    "    experiment = Experiment('config.json', platform)\n",
    "    experiment.initiate()\n",
    "    experiment_subjects[platform] = experiment.get_subjects()\n",
    "\n",
    "subjects = dict()\n",
    "for platform in platforms:\n",
    "    for subject in experiment_subjects[platform]:\n",
    "        if subject.id not in subjects:\n",
    "            subjects[subject.id] = dict()\n",
    "        subjects[subject.id][platform] = subject"
   ]
  },
  {
   "cell_type": "markdown",
   "metadata": {},
   "source": [
    "# Initate"
   ]
  },
  {
   "cell_type": "code",
   "execution_count": null,
   "metadata": {},
   "outputs": [],
   "source": [
    "subject_names = list(subjects.keys())\n",
    "for subject_name in subject_names:\n",
    "    IP.shuffle(subject_name)\n",
    "    for platform in platforms:\n",
    "        print(f'Platform: {platform}, Subject: {subject_name}')\n",
    "        subject = subjects[subject_name][platform]\n",
    "        signed = subject.platformSignin()\n",
    "        debug(f'Platform: {platform}, Subject: {subject_name}, Signed: {signed}')\n",
    "        input('Press Enter to continue')"
   ]
  },
  {
   "cell_type": "code",
   "execution_count": null,
   "metadata": {},
   "outputs": [],
   "source": [
    "subject_names"
   ]
  },
  {
   "cell_type": "markdown",
   "metadata": {},
   "source": [
    "# Observation"
   ]
  },
  {
   "cell_type": "code",
   "execution_count": null,
   "metadata": {},
   "outputs": [],
   "source": [
    "subject_names = list(subjects.keys())\n",
    "for subject_name in subject_names:\n",
    "    IP.shuffle(subject_name)\n",
    "    chrome = subjects[subject_name]['YouTube']\n",
    "    signed = chrome.checkChromeSignin()\n",
    "    debug(f'Chrome signed in: {signed}')\n",
    "    if not signed:\n",
    "        error(f'Chrome not signed in: {subject_name}')\n",
    "        chrome.chromeSignIn()\n",
    "\n",
    "    for platform in platforms:\n",
    "        print(f'Platform: {platform}, Subject: {subject_name}')\n",
    "        subject = subjects[subject_name][platform]\n",
    "        debug(f'Checking signin for {subject_name} on {platform}')\n",
    "        wait(3)\n",
    "        if not subject.checkSignin():\n",
    "            error(f'{subject_name} not signed in on {platform}')\n",
    "            error(f'Attempting to sign in {subject_name} on {platform}')\n",
    "            wait(3)\n",
    "            try:\n",
    "                subject.platformSignIn()\n",
    "            except Exception as e:\n",
    "                error(f'Error signing in {subject_name} on {platform}')\n",
    "                error(e)\n",
    "                continue\n",
    "            wait(3)\n",
    "\n",
    "        try:\n",
    "            debug(f'Observing {subject_name} on {platform}')\n",
    "            subject.observe(pre=True)\n",
    "        except Exception as e:\n",
    "            error(f'Error observing {subject_name} on {platform}')\n",
    "            error(e)\n",
    "    bigWait(10)"
   ]
  },
  {
   "cell_type": "markdown",
   "metadata": {},
   "source": [
    "# Treatment"
   ]
  },
  {
   "cell_type": "code",
   "execution_count": 5,
   "metadata": {},
   "outputs": [],
   "source": [
    "import os\n",
    "def closeAllChrome():\n",
    "    try:\n",
    "        os.system(\"taskkill /im chrome.exe /f\")\n",
    "    except Exception as e:\n",
    "        error(e)"
   ]
  },
  {
   "cell_type": "code",
   "execution_count": 4,
   "metadata": {},
   "outputs": [
    {
     "name": "stdout",
     "output_type": "stream",
     "text": [
      "\u001b[33mshuffle:\u001b[30m\t Shuffling IP for like_oscars_1\n",
      "\u001b[33msetIP:\u001b[30m\t Setting New IP: : 128.255.45.121\n",
      "\u001b[32mgetCurrentIP:\u001b[30m\t Current IP Address: 128.255.45.115\n",
      "\u001b[32mgetCurrentIP:\u001b[30m\t Current IP Address: 128.255.45.115\n"
     ]
    },
    {
     "ename": "KeyboardInterrupt",
     "evalue": "",
     "output_type": "error",
     "traceback": [
      "\u001b[1;31m---------------------------------------------------------------------------\u001b[0m",
      "\u001b[1;31mKeyboardInterrupt\u001b[0m                         Traceback (most recent call last)",
      "Cell \u001b[1;32mIn[4], line 3\u001b[0m\n\u001b[0;32m      1\u001b[0m subject_names \u001b[38;5;241m=\u001b[39m \u001b[38;5;28mlist\u001b[39m(subjects\u001b[38;5;241m.\u001b[39mkeys())\n\u001b[0;32m      2\u001b[0m \u001b[38;5;28;01mfor\u001b[39;00m subject_name \u001b[38;5;129;01min\u001b[39;00m subject_names[\u001b[38;5;241m1\u001b[39m:]:\n\u001b[1;32m----> 3\u001b[0m     \u001b[43mIP\u001b[49m\u001b[38;5;241;43m.\u001b[39;49m\u001b[43mshuffle\u001b[49m\u001b[43m(\u001b[49m\u001b[43msubject_name\u001b[49m\u001b[43m)\u001b[49m\n\u001b[0;32m      4\u001b[0m     chrome \u001b[38;5;241m=\u001b[39m subjects[subject_name][\u001b[38;5;124m'\u001b[39m\u001b[38;5;124mYouTube\u001b[39m\u001b[38;5;124m'\u001b[39m]\n\u001b[0;32m      5\u001b[0m     signed \u001b[38;5;241m=\u001b[39m chrome\u001b[38;5;241m.\u001b[39mcheckChromeSignin()\n",
      "File \u001b[1;32m~\\Desktop\\sparta-aceap\\engine\\src\\utils\\shuffleIP.py:132\u001b[0m, in \u001b[0;36mshuffle\u001b[1;34m(subject_name)\u001b[0m\n\u001b[0;32m    130\u001b[0m     getNewIP()\n\u001b[0;32m    131\u001b[0m \u001b[38;5;28;01melse\u001b[39;00m:\n\u001b[1;32m--> 132\u001b[0m     \u001b[43msetIP\u001b[49m\u001b[43m(\u001b[49m\u001b[43mip\u001b[49m\u001b[43m)\u001b[49m\n\u001b[0;32m    134\u001b[0m \u001b[38;5;66;03m# get current ip\u001b[39;00m\n\u001b[0;32m    135\u001b[0m IP \u001b[38;5;241m=\u001b[39m getCurrentIP()\n",
      "File \u001b[1;32m~\\Desktop\\sparta-aceap\\engine\\src\\utils\\shuffleIP.py:95\u001b[0m, in \u001b[0;36msetIP\u001b[1;34m(ip)\u001b[0m\n\u001b[0;32m     92\u001b[0m sp\u001b[38;5;241m.\u001b[39mrun(command)\n\u001b[0;32m     94\u001b[0m \u001b[38;5;28;01mwhile\u001b[39;00m isRunning():\n\u001b[1;32m---> 95\u001b[0m     \u001b[43mwait\u001b[49m\u001b[43m(\u001b[49m\u001b[38;5;241;43m2\u001b[39;49m\u001b[43m)\u001b[49m\n\u001b[0;32m     96\u001b[0m wait(\u001b[38;5;241m5\u001b[39m)\n\u001b[0;32m     97\u001b[0m \u001b[38;5;28;01mif\u001b[39;00m \u001b[38;5;129;01mnot\u001b[39;00m internetAccess():\n",
      "File \u001b[1;32m~\\Desktop\\sparta-aceap\\engine\\src\\utils\\util.py:26\u001b[0m, in \u001b[0;36mwait\u001b[1;34m(sec)\u001b[0m\n\u001b[0;32m     23\u001b[0m \u001b[38;5;28;01mdef\u001b[39;00m \u001b[38;5;21mwait\u001b[39m(sec):\n\u001b[0;32m     24\u001b[0m     \u001b[38;5;66;03m# sleep for sec but preturb randomly\u001b[39;00m\n\u001b[0;32m     25\u001b[0m     sec \u001b[38;5;241m=\u001b[39m sec \u001b[38;5;241m+\u001b[39m random\u001b[38;5;241m.\u001b[39muniform(\u001b[38;5;241m0\u001b[39m, \u001b[38;5;241m1\u001b[39m)\n\u001b[1;32m---> 26\u001b[0m     \u001b[43msleep\u001b[49m\u001b[43m(\u001b[49m\u001b[43msec\u001b[49m\u001b[43m)\u001b[49m\n",
      "\u001b[1;31mKeyboardInterrupt\u001b[0m: "
     ]
    }
   ],
   "source": [
    "subject_names = list(subjects.keys())\n",
    "for subject_name in subject_names[1:]:\n",
    "    IP.shuffle(subject_name)\n",
    "    chrome = subjects[subject_name]['YouTube']\n",
    "    signed = chrome.checkChromeSignin()\n",
    "    debug(f'Chrome signed in: {signed}')\n",
    "    if not signed:\n",
    "        error(f'Chrome not signed in: {subject_name}')\n",
    "        chrome.chromeSignIn()\n",
    "\n",
    "    for platform in platforms:\n",
    "        print(f'Platform: {platform}, Subject: {subject_name}')\n",
    "        subject = subjects[subject_name][platform]\n",
    "        debug(f'Checking signin for {subject_name} on {platform}')\n",
    "        wait(3)\n",
    "        if not subject.checkSignin():\n",
    "            error(f'{subject_name} not signed in on {platform}')\n",
    "            error(f'Attempting to sign in {subject_name} on {platform}')\n",
    "            wait(3)\n",
    "            try:\n",
    "                subject.platformSignIn()\n",
    "            except Exception as e:\n",
    "                subject.close()\n",
    "                error(f'Error signing in {subject_name} on {platform}')\n",
    "                error(e)\n",
    "                continue\n",
    "            wait(3)\n",
    "\n",
    "        try:\n",
    "            debug(f'Treatment {subject_name} on {platform}')\n",
    "            subject.treatment()\n",
    "        except Exception as e:\n",
    "            error(f'Error observing {subject_name} on {platform}')\n",
    "            error(e)\n",
    "    closeAllChrome()\n",
    "    bigWait(10)"
   ]
  },
  {
   "cell_type": "code",
   "execution_count": null,
   "metadata": {},
   "outputs": [],
   "source": [
    "bigWait(30)\n",
    "subject_names = list(subjects.keys())\n",
    "for subject_name in subject_names:\n",
    "    IP.shuffle(subject_name)\n",
    "    chrome = subjects[subject_name]['YouTube']\n",
    "    signed = chrome.checkChromeSignin()\n",
    "    debug(f'Chrome signed in: {signed}')\n",
    "    if not signed:\n",
    "        error(f'Chrome not signed in: {subject_name}')\n",
    "        chrome.chromeSignIn()\n",
    "\n",
    "    for platform in platforms:\n",
    "        print(f'Platform: {platform}, Subject: {subject_name}')\n",
    "        subject = subjects[subject_name][platform]\n",
    "        debug(f'Checking signin for {subject_name} on {platform}')\n",
    "        wait(3)\n",
    "        if not subject.checkSignin():\n",
    "            error(f'{subject_name} not signed in on {platform}')\n",
    "            error(f'Attempting to sign in {subject_name} on {platform}')\n",
    "            wait(3)\n",
    "            try:\n",
    "                subject.platformSignIn()\n",
    "            except Exception as e:\n",
    "                error(f'Error signing in {subject_name} on {platform}')\n",
    "                error(e)\n",
    "                continue\n",
    "            wait(3)\n",
    "\n",
    "        try:\n",
    "            debug(f'Observing {subject_name} on {platform}')\n",
    "            subject.observe(pre=True)\n",
    "        except Exception as e:\n",
    "            error(f'Error observing {subject_name} on {platform}')\n",
    "            error(e)\n",
    "    bigWait(10)"
   ]
  },
  {
   "cell_type": "code",
   "execution_count": null,
   "metadata": {},
   "outputs": [],
   "source": [
    "treatments = dict()\n",
    "subject_names = list(subjects.keys())\n",
    "for subject_name in subject_names:\n",
    "    treatments[subject_name] = dict()\n",
    "    for platform in subjects[subject_name]:\n",
    "        try:\n",
    "            treatments[subject_name][platform] = subject.get_treatments()\n",
    "        except Exception as e:\n",
    "            error(e)"
   ]
  },
  {
   "cell_type": "code",
   "execution_count": null,
   "metadata": {},
   "outputs": [],
   "source": []
  },
  {
   "cell_type": "code",
   "execution_count": null,
   "metadata": {},
   "outputs": [],
   "source": [
    "import pickle as pkl\n",
    "import pandas as pd\n",
    "import json\n",
    "import sqlite3 as sql\n",
    "\n",
    "from experiment.Experiment import Experiment\n",
    "from experiment.Subject import Subject\n",
    "\n",
    "def uploadResults(platform):\n",
    "    config_file = 'config.json'\n",
    "    config = json.load(open(config_file, 'r'))\n",
    "    experiment = Experiment(config_file, platform)\n",
    "    subjects = experiment.get_subjects()\n",
    "\n",
    "    users = []\n",
    "    for user in subjects:\n",
    "        treatments = user.get_treatments()\n",
    "        for tick in treatments:\n",
    "            pre, post = user.get_observations(tick)\n",
    "            treatments[tick]['pre'] = pre\n",
    "            treatments[tick]['post'] = post\n",
    "\n",
    "        users.append(treatments)\n",
    "\n",
    "    pkl.dump(users, open(f'{platform}-results.pkl', 'wb'))\n",
    "\n",
    "    return users"
   ]
  }
 ],
 "metadata": {
  "kernelspec": {
   "display_name": "Python 3",
   "language": "python",
   "name": "python3"
  },
  "language_info": {
   "codemirror_mode": {
    "name": "ipython",
    "version": 3
   },
   "file_extension": ".py",
   "mimetype": "text/x-python",
   "name": "python",
   "nbconvert_exporter": "python",
   "pygments_lexer": "ipython3",
   "version": "3.11.8"
  }
 },
 "nbformat": 4,
 "nbformat_minor": 2
}

{
 "cells": [
  {
   "cell_type": "code",
   "execution_count": 1,
   "metadata": {},
   "outputs": [
    {
     "name": "stdout",
     "output_type": "stream",
     "text": [
      "{'treatments': [{'action': 'like', 'topic': 'oscars'}, {'action': 'follow', 'topic': 'oscars'}, {'action': 'open', 'topic': 'oscars'}, {'action': 'join', 'topic': 'oscars'}, {'action': 'search', 'topic': 'oscars'}, {'action': '', 'topic': ''}], 'replication': 3, 'days': 2, 'experiment_id': 'xp9', 'platforms': ['YouTube', 'Reddit', 'Twitter', 'Facebook'], 'email_template': 'xp9aceap', 'database': 'experiment.db', 'path': 'C:\\\\Users\\\\hussa\\\\Desktop\\\\sparta-aceap\\\\engine\\\\exp9\\\\data'}\n"
     ]
    }
   ],
   "source": [
    "import json\n",
    "from experiment.Experiment import Experiment\n",
    "from account_creation.GoogleWorkspace import GoogleWorkspace\n",
    "from utils import shuffleIP as IP\n",
    "from utils.log import debug, error, logging\n",
    "from utils.util import wait, bigWait\n",
    "\n",
    "config = json.load(open('config.json', 'r'))\n",
    "platforms = config['platforms']\n",
    "print(config)"
   ]
  },
  {
   "cell_type": "code",
   "execution_count": 2,
   "metadata": {},
   "outputs": [
    {
     "name": "stdout",
     "output_type": "stream",
     "text": [
      "\u001b[33mneedUsers:\u001b[30m\t Users required: 18\n",
      "\u001b[33mneedUsers:\u001b[30m\t Enough users already created: [{'fname': 'Amanda', 'lname': 'Reising', 'email': 'xp9aceap0@spartaaceap.com', 'id': 'xp9aceap0', 'exp': 'xp9', 'google_signin': None, 'chrome_signin': 1, 'chrome_session': 'xp9aceap0', 'reddit': 1, 'twitter': 1, 'youtube': 1, 'tiktok': None, 'facebook': 1}, {'fname': 'Regina', 'lname': 'Adams', 'email': 'xp9aceap1@spartaaceap.com', 'id': 'xp9aceap1', 'exp': 'xp9', 'google_signin': None, 'chrome_signin': 1, 'chrome_session': 'xp9aceap1', 'reddit': 1, 'twitter': 1, 'youtube': 1, 'tiktok': None, 'facebook': 1}, {'fname': 'Sandra', 'lname': 'Hoffman', 'email': 'xp9aceap2@spartaaceap.com', 'id': 'xp9aceap2', 'exp': 'xp9', 'google_signin': None, 'chrome_signin': 1, 'chrome_session': 'xp9aceap2', 'reddit': 1, 'twitter': 1, 'youtube': 1, 'tiktok': None, 'facebook': 1}, {'fname': 'William', 'lname': 'Wood', 'email': 'xp9aceap3@spartaaceap.com', 'id': 'xp9aceap3', 'exp': 'xp9', 'google_signin': None, 'chrome_signin': 1, 'chrome_session': 'xp9aceap3', 'reddit': 1, 'twitter': 1, 'youtube': 1, 'tiktok': None, 'facebook': 1}, {'fname': 'Nina', 'lname': 'Mcadams', 'email': 'xp9aceap4@spartaaceap.com', 'id': 'xp9aceap4', 'exp': 'xp9', 'google_signin': None, 'chrome_signin': 1, 'chrome_session': 'xp9aceap4', 'reddit': 1, 'twitter': 1, 'youtube': 1, 'tiktok': None, 'facebook': 1}, {'fname': 'Rosemary', 'lname': 'Hutchison', 'email': 'xp9aceap5@spartaaceap.com', 'id': 'xp9aceap5', 'exp': 'xp9', 'google_signin': None, 'chrome_signin': 1, 'chrome_session': 'xp9aceap5', 'reddit': 1, 'twitter': 1, 'youtube': 1, 'tiktok': None, 'facebook': 1}, {'fname': 'Kelly', 'lname': 'Sinstack', 'email': 'xp9aceap6@spartaaceap.com', 'id': 'xp9aceap6', 'exp': 'xp9', 'google_signin': None, 'chrome_signin': 1, 'chrome_session': 'xp9aceap6', 'reddit': 1, 'twitter': 1, 'youtube': 1, 'tiktok': None, 'facebook': 1}, {'fname': 'Whitney', 'lname': 'Martinez', 'email': 'xp9aceap7@spartaaceap.com', 'id': 'xp9aceap7', 'exp': 'xp9', 'google_signin': None, 'chrome_signin': 1, 'chrome_session': 'xp9aceap7', 'reddit': 1, 'twitter': 1, 'youtube': 1, 'tiktok': None, 'facebook': 1}, {'fname': 'Sharon', 'lname': 'Rivera', 'email': 'xp9aceap8@spartaaceap.com', 'id': 'xp9aceap8', 'exp': 'xp9', 'google_signin': None, 'chrome_signin': 1, 'chrome_session': 'xp9aceap8', 'reddit': 1, 'twitter': 1, 'youtube': 1, 'tiktok': None, 'facebook': 1}, {'fname': 'Marylouise', 'lname': 'Williams', 'email': 'xp9aceap9@spartaaceap.com', 'id': 'xp9aceap9', 'exp': 'xp9', 'google_signin': None, 'chrome_signin': 1, 'chrome_session': 'xp9aceap9', 'reddit': 1, 'twitter': 1, 'youtube': 1, 'tiktok': None, 'facebook': 1}, {'fname': 'Mary', 'lname': 'Perry', 'email': 'xp9aceap10@spartaaceap.com', 'id': 'xp9aceap10', 'exp': 'xp9', 'google_signin': None, 'chrome_signin': 1, 'chrome_session': 'xp9aceap10', 'reddit': 1, 'twitter': 1, 'youtube': 1, 'tiktok': None, 'facebook': 1}, {'fname': 'Vincent', 'lname': 'Elmendorf', 'email': 'xp9aceap11@spartaaceap.com', 'id': 'xp9aceap11', 'exp': 'xp9', 'google_signin': None, 'chrome_signin': 1, 'chrome_session': 'xp9aceap11', 'reddit': 1, 'twitter': 1, 'youtube': 1, 'tiktok': None, 'facebook': 1}, {'fname': 'Donald', 'lname': 'Cloke', 'email': 'xp9aceap12@spartaaceap.com', 'id': 'xp9aceap12', 'exp': 'xp9', 'google_signin': None, 'chrome_signin': 1, 'chrome_session': 'xp9aceap12', 'reddit': 1, 'twitter': 1, 'youtube': 1, 'tiktok': None, 'facebook': 1}, {'fname': 'Christopher', 'lname': 'Smith', 'email': 'xp9aceap13@spartaaceap.com', 'id': 'xp9aceap13', 'exp': 'xp9', 'google_signin': None, 'chrome_signin': 1, 'chrome_session': 'xp9aceap13', 'reddit': 1, 'twitter': 1, 'youtube': 1, 'tiktok': None, 'facebook': 1}, {'fname': 'Courtney', 'lname': 'Feldman', 'email': 'xp9aceap14@spartaaceap.com', 'id': 'xp9aceap14', 'exp': 'xp9', 'google_signin': None, 'chrome_signin': 1, 'chrome_session': 'xp9aceap14', 'reddit': 1, 'twitter': 1, 'youtube': 1, 'tiktok': None, 'facebook': 1}, {'fname': 'Geraldine', 'lname': 'Cooper', 'email': 'xp9aceap15@spartaaceap.com', 'id': 'xp9aceap15', 'exp': 'xp9', 'google_signin': None, 'chrome_signin': 1, 'chrome_session': 'xp9aceap15', 'reddit': 1, 'twitter': 1, 'youtube': 1, 'tiktok': None, 'facebook': 1}, {'fname': 'Michael', 'lname': 'Reifsnyder', 'email': 'xp9aceap16@spartaaceap.com', 'id': 'xp9aceap16', 'exp': 'xp9', 'google_signin': None, 'chrome_signin': 1, 'chrome_session': 'xp9aceap16', 'reddit': 1, 'twitter': 1, 'youtube': 1, 'tiktok': None, 'facebook': 1}, {'fname': 'Matthew', 'lname': 'Carlson', 'email': 'xp9aceap17@spartaaceap.com', 'id': 'xp9aceap17', 'exp': 'xp9', 'google_signin': None, 'chrome_signin': 1, 'chrome_session': 'xp9aceap17', 'reddit': 1, 'twitter': 1, 'youtube': 1, 'tiktok': None, 'facebook': 1}]\n"
     ]
    }
   ],
   "source": [
    "GW = GoogleWorkspace()\n",
    "if GW.needUsers(config):\n",
    "    GW.createUsers(config)"
   ]
  },
  {
   "cell_type": "code",
   "execution_count": 3,
   "metadata": {},
   "outputs": [
    {
     "name": "stdout",
     "output_type": "stream",
     "text": [
      "\u001b[33m__init__:\u001b[30m\t Loading experiment config\n",
      "\u001b[33m__init__:\u001b[30m\t Loading experiment\n",
      "\u001b[33minitiate:\u001b[30m\t Experiment YouTube already initiated.\n",
      "\u001b[33m__init__:\u001b[30m\t Loading experiment config\n",
      "\u001b[33m__init__:\u001b[30m\t Loading experiment\n",
      "\u001b[33minitiate:\u001b[30m\t Experiment Reddit already initiated.\n",
      "\u001b[33m__init__:\u001b[30m\t Loading experiment config\n",
      "\u001b[33m__init__:\u001b[30m\t Loading experiment\n",
      "\u001b[33minitiate:\u001b[30m\t Experiment Twitter already initiated.\n",
      "\u001b[33m__init__:\u001b[30m\t Loading experiment config\n",
      "\u001b[33m__init__:\u001b[30m\t Loading experiment\n",
      "\u001b[33minitiate:\u001b[30m\t Experiment Facebook already initiated.\n"
     ]
    }
   ],
   "source": [
    "experiment_subjects = dict()\n",
    "for platform in platforms:\n",
    "    experiment = Experiment('config.json', platform)\n",
    "    experiment.initiate()\n",
    "    experiment_subjects[platform] = experiment.get_subjects()\n",
    "\n",
    "subjects = dict()\n",
    "for platform in platforms:\n",
    "    for subject in experiment_subjects[platform]:\n",
    "        if subject.id not in subjects:\n",
    "            subjects[subject.id] = dict()\n",
    "        subjects[subject.id][platform] = subject"
   ]
  },
  {
   "cell_type": "markdown",
   "metadata": {},
   "source": [
    "# Initate"
   ]
  },
  {
   "cell_type": "code",
   "execution_count": 4,
   "metadata": {},
   "outputs": [
    {
     "name": "stdout",
     "output_type": "stream",
     "text": [
      "\u001b[33mshuffle:\u001b[30m\t Shuffling IP for like_oscars_0\n",
      "\u001b[33msetIP:\u001b[30m\t Setting New IP: : 128.255.45.121\n",
      "\u001b[32mgetCurrentIP:\u001b[30m\t Current IP Address: 128.255.45.121\n",
      "\u001b[32mgetCurrentIP:\u001b[30m\t Current IP Address: 128.255.45.121\n",
      "\u001b[33msetIP:\u001b[30m\t IP already set\n",
      "\u001b[32mgetCurrentIP:\u001b[30m\t Current IP Address: 128.255.45.121\n",
      "\u001b[33mshuffle:\u001b[30m\t Current IP: 128.255.45.121\n",
      "\u001b[33mshuffle:\u001b[30m\t IP successfully set to 128.255.45.121\n",
      "\u001b[33m<module>:\u001b[30m\t Chrome signed in: True\n",
      "\u001b[33mlogging:\u001b[30m\t Platform: YouTube, Subject: like_oscars_0\n",
      "\u001b[33mlogging:\u001b[30m\t \t Signing in like_oscars_0 on YouTube\n",
      "\u001b[33mturnOnHistory:\u001b[30m\t Turning on history\n",
      "\u001b[33mturnOnHistory:\u001b[30m\t Already turned on history\n",
      "\u001b[33mscreenshot:\u001b[30m\t Taking screenshot\n",
      "\u001b[33mscreenshot:\u001b[30m\t Screenshot saved: C:\\Users\\hussa\\Desktop\\sparta-aceap\\engine\\data\\screenshots\\create-a39df7b9.png\n",
      "\u001b[33maddSignal:\u001b[30m\t Signal added: create\n",
      "\u001b[32mcloseDriver:\u001b[30m\t Closing browser\n",
      "\u001b[32mcloseDriver:\u001b[31m\t Could not close browser\n",
      "\u001b[32mcloseDriver:\u001b[31m\t [WinError 5] Access is denied\n",
      "\u001b[33m<module>:\u001b[30m\t Signed in like_oscars_0 on YouTube\n",
      "\u001b[33mlogging:\u001b[30m\t Platform: Reddit, Subject: like_oscars_0\n",
      "\u001b[33mlogging:\u001b[30m\t \t Signing in like_oscars_0 on Reddit\n",
      "\u001b[33mscreenshot:\u001b[30m\t Taking screenshot\n",
      "\u001b[33mscreenshot:\u001b[30m\t Screenshot saved: C:\\Users\\hussa\\Desktop\\sparta-aceap\\engine\\data\\screenshots\\create-82dea0a0.png\n",
      "\u001b[33maddSignal:\u001b[30m\t Signal added: create\n",
      "\u001b[32mcloseDriver:\u001b[30m\t Closing browser\n",
      "\u001b[32mcloseDriver:\u001b[31m\t Could not close browser\n",
      "\u001b[32mcloseDriver:\u001b[31m\t [WinError 87] The parameter is incorrect\n",
      "\u001b[33m<module>:\u001b[30m\t Signed in like_oscars_0 on Reddit\n",
      "\u001b[33mlogging:\u001b[30m\t Platform: Twitter, Subject: like_oscars_0\n",
      "\u001b[33mlogging:\u001b[30m\t \t Signing in like_oscars_0 on Twitter\n",
      "\u001b[33mscreenshot:\u001b[30m\t Taking screenshot\n",
      "\u001b[33mscreenshot:\u001b[30m\t Screenshot saved: C:\\Users\\hussa\\Desktop\\sparta-aceap\\engine\\data\\screenshots\\create-0bf369f7.png\n",
      "\u001b[33maddSignal:\u001b[30m\t Signal added: create\n",
      "\u001b[32mcloseDriver:\u001b[30m\t Closing browser\n",
      "\u001b[32mcloseDriver:\u001b[31m\t Could not close browser\n",
      "\u001b[32mcloseDriver:\u001b[31m\t [WinError 87] The parameter is incorrect\n",
      "\u001b[33m<module>:\u001b[30m\t Signed in like_oscars_0 on Twitter\n",
      "\u001b[33mlogging:\u001b[30m\t Platform: Facebook, Subject: like_oscars_0\n",
      "\u001b[33mlogging:\u001b[30m\t \t Signing in like_oscars_0 on Facebook\n",
      "\u001b[33mget_phone_number:\u001b[30m\t Trying US\n",
      "\u001b[33mget_phone_number:\u001b[30m\t ORDER_ID_3574014_NUMBER_6143734908\n",
      "\u001b[33mcreateUserMobile:\u001b[30m\t USA\n",
      "\u001b[33mcreateUserMobile:\u001b[30m\t 6143734908\n",
      "\u001b[33mget_code:\u001b[30m\t key: 8f4f7ccd11b3bcbafbffff1212db142d\n",
      "\u001b[33mget_code:\u001b[30m\t order_number: 3574014\n",
      "\u001b[33mget_code:\u001b[30m\t WAITING\n",
      "\u001b[33mget_code:\u001b[30m\t key: 8f4f7ccd11b3bcbafbffff1212db142d\n",
      "\u001b[33mget_code:\u001b[30m\t order_number: 3574014\n",
      "\u001b[33mget_code:\u001b[30m\t WAITING\n",
      "\u001b[33mget_code:\u001b[30m\t key: 8f4f7ccd11b3bcbafbffff1212db142d\n",
      "\u001b[33mget_code:\u001b[30m\t order_number: 3574014\n",
      "\u001b[33mget_code:\u001b[30m\t WAITING\n",
      "\u001b[33mget_code:\u001b[30m\t key: 8f4f7ccd11b3bcbafbffff1212db142d\n",
      "\u001b[33mget_code:\u001b[30m\t order_number: 3574014\n",
      "\u001b[33mget_code:\u001b[30m\t WAITING\n",
      "\u001b[33mget_code:\u001b[30m\t key: 8f4f7ccd11b3bcbafbffff1212db142d\n",
      "\u001b[33mget_code:\u001b[30m\t order_number: 3574014\n",
      "\u001b[33mget_code:\u001b[30m\t WAITING\n",
      "\u001b[33mget_code:\u001b[30m\t key: 8f4f7ccd11b3bcbafbffff1212db142d\n",
      "\u001b[33mget_code:\u001b[30m\t order_number: 3574014\n",
      "\u001b[33mget_code:\u001b[30m\t SUCCESS_FB-42814 is your Facebook confirmation code\n",
      "\u001b[33mget_code:\u001b[30m\t 42814\n",
      "\u001b[33mcreateUserMobile:\u001b[30m\t 42814\n",
      "\u001b[33mscreenshot:\u001b[30m\t Taking screenshot\n",
      "\u001b[33mscreenshot:\u001b[30m\t Screenshot saved: C:\\Users\\hussa\\Desktop\\sparta-aceap\\engine\\data\\screenshots\\create-ef212fba.png\n",
      "\u001b[33maddSignal:\u001b[30m\t Signal added: create\n",
      "\u001b[32mcloseDriver:\u001b[30m\t Closing browser\n",
      "\u001b[32mcloseDriver:\u001b[31m\t Could not close browser\n",
      "\u001b[32mcloseDriver:\u001b[31m\t [WinError 5] Access is denied\n",
      "\u001b[33m<module>:\u001b[30m\t Signed in like_oscars_0 on Facebook\n",
      "\u001b[33mbigWait:\u001b[30m\t Waiting for 10 minutes\n"
     ]
    },
    {
     "name": "stderr",
     "output_type": "stream",
     "text": [
      "100%|██████████| 600/600 [10:02<00:00,  1.00s/it]\n"
     ]
    },
    {
     "name": "stdout",
     "output_type": "stream",
     "text": [
      "\u001b[33mshuffle:\u001b[30m\t Shuffling IP for like_oscars_1\n",
      "\u001b[33msetIP:\u001b[30m\t Setting New IP: : 128.255.45.121\n",
      "\u001b[32mgetCurrentIP:\u001b[30m\t Current IP Address: 128.255.45.121\n",
      "\u001b[32mgetCurrentIP:\u001b[30m\t Current IP Address: 128.255.45.121\n",
      "\u001b[33msetIP:\u001b[30m\t IP already set\n",
      "\u001b[32mgetCurrentIP:\u001b[30m\t Current IP Address: 128.255.45.121\n",
      "\u001b[33mshuffle:\u001b[30m\t Current IP: 128.255.45.121\n",
      "\u001b[33mshuffle:\u001b[30m\t IP successfully set to 128.255.45.121\n",
      "\u001b[33m<module>:\u001b[30m\t Chrome signed in: True\n",
      "\u001b[33mlogging:\u001b[30m\t Platform: YouTube, Subject: like_oscars_1\n",
      "\u001b[33mlogging:\u001b[30m\t \t Signing in like_oscars_1 on YouTube\n",
      "\u001b[33mturnOnHistory:\u001b[30m\t Turning on history\n",
      "\u001b[33mscreenshot:\u001b[30m\t Taking screenshot\n",
      "\u001b[33mscreenshot:\u001b[30m\t Screenshot saved: C:\\Users\\hussa\\Desktop\\sparta-aceap\\engine\\data\\screenshots\\create-65d31f1d.png\n",
      "\u001b[33maddSignal:\u001b[30m\t Signal added: create\n",
      "\u001b[32mcloseDriver:\u001b[30m\t Closing browser\n",
      "\u001b[32mcloseDriver:\u001b[31m\t Could not close browser\n",
      "\u001b[32mcloseDriver:\u001b[31m\t [WinError 5] Access is denied\n",
      "\u001b[33m<module>:\u001b[30m\t Signed in like_oscars_1 on YouTube\n",
      "\u001b[33mlogging:\u001b[30m\t Platform: Reddit, Subject: like_oscars_1\n",
      "\u001b[33mlogging:\u001b[30m\t \t Signing in like_oscars_1 on Reddit\n",
      "\u001b[33mscreenshot:\u001b[30m\t Taking screenshot\n",
      "\u001b[33mscreenshot:\u001b[30m\t Screenshot saved: C:\\Users\\hussa\\Desktop\\sparta-aceap\\engine\\data\\screenshots\\create-07b8e5dc.png\n",
      "\u001b[33maddSignal:\u001b[30m\t Signal added: create\n",
      "\u001b[32mcloseDriver:\u001b[30m\t Closing browser\n",
      "\u001b[32mcloseDriver:\u001b[31m\t Could not close browser\n",
      "\u001b[32mcloseDriver:\u001b[31m\t [WinError 87] The parameter is incorrect\n",
      "\u001b[33m<module>:\u001b[30m\t Signed in like_oscars_1 on Reddit\n",
      "\u001b[33mlogging:\u001b[30m\t Platform: Twitter, Subject: like_oscars_1\n",
      "\u001b[33mlogging:\u001b[30m\t \t Signing in like_oscars_1 on Twitter\n",
      "\u001b[33mscreenshot:\u001b[30m\t Taking screenshot\n",
      "\u001b[33mscreenshot:\u001b[30m\t Screenshot saved: C:\\Users\\hussa\\Desktop\\sparta-aceap\\engine\\data\\screenshots\\create-fc62d865.png\n",
      "\u001b[33maddSignal:\u001b[30m\t Signal added: create\n",
      "\u001b[32mcloseDriver:\u001b[30m\t Closing browser\n",
      "\u001b[32mcloseDriver:\u001b[31m\t Could not close browser\n",
      "\u001b[32mcloseDriver:\u001b[31m\t [WinError 5] Access is denied\n",
      "\u001b[33m<module>:\u001b[30m\t Signed in like_oscars_1 on Twitter\n",
      "\u001b[33mlogging:\u001b[30m\t Platform: Facebook, Subject: like_oscars_1\n",
      "\u001b[33mlogging:\u001b[30m\t \t Signing in like_oscars_1 on Facebook\n",
      "\u001b[33mget_phone_number:\u001b[30m\t Trying US\n",
      "\u001b[33mget_phone_number:\u001b[30m\t ORDER_ID_3574083_NUMBER_6014512421\n",
      "\u001b[33mcreateUserMobile:\u001b[30m\t USA\n",
      "\u001b[33mcreateUserMobile:\u001b[30m\t 6014512421\n",
      "\u001b[33mget_code:\u001b[30m\t key: 8f4f7ccd11b3bcbafbffff1212db142d\n",
      "\u001b[33mget_code:\u001b[30m\t order_number: 3574083\n",
      "\u001b[33mget_code:\u001b[30m\t WAITING\n",
      "\u001b[33mget_code:\u001b[30m\t key: 8f4f7ccd11b3bcbafbffff1212db142d\n",
      "\u001b[33mget_code:\u001b[30m\t order_number: 3574083\n",
      "\u001b[33mget_code:\u001b[30m\t WAITING\n",
      "\u001b[33mget_code:\u001b[30m\t key: 8f4f7ccd11b3bcbafbffff1212db142d\n",
      "\u001b[33mget_code:\u001b[30m\t order_number: 3574083\n",
      "\u001b[33mget_code:\u001b[30m\t WAITING\n",
      "\u001b[33mget_code:\u001b[30m\t key: 8f4f7ccd11b3bcbafbffff1212db142d\n",
      "\u001b[33mget_code:\u001b[30m\t order_number: 3574083\n",
      "\u001b[33mget_code:\u001b[30m\t WAITING\n",
      "\u001b[33mget_code:\u001b[30m\t key: 8f4f7ccd11b3bcbafbffff1212db142d\n",
      "\u001b[33mget_code:\u001b[30m\t order_number: 3574083\n",
      "\u001b[33mget_code:\u001b[30m\t WAITING\n",
      "\u001b[33mget_code:\u001b[30m\t key: 8f4f7ccd11b3bcbafbffff1212db142d\n",
      "\u001b[33mget_code:\u001b[30m\t order_number: 3574083\n",
      "\u001b[33mget_code:\u001b[30m\t WAITING\n",
      "\u001b[33mget_code:\u001b[30m\t key: 8f4f7ccd11b3bcbafbffff1212db142d\n",
      "\u001b[33mget_code:\u001b[30m\t order_number: 3574083\n",
      "\u001b[33mget_code:\u001b[30m\t WAITING\n",
      "\u001b[33mget_code:\u001b[30m\t key: 8f4f7ccd11b3bcbafbffff1212db142d\n",
      "\u001b[33mget_code:\u001b[30m\t order_number: 3574083\n",
      "\u001b[33mget_code:\u001b[30m\t WAITING\n",
      "\u001b[33mget_code:\u001b[30m\t key: 8f4f7ccd11b3bcbafbffff1212db142d\n",
      "\u001b[33mget_code:\u001b[30m\t order_number: 3574083\n",
      "\u001b[33mget_code:\u001b[30m\t WAITING\n",
      "\u001b[33mget_code:\u001b[30m\t key: 8f4f7ccd11b3bcbafbffff1212db142d\n",
      "\u001b[33mget_code:\u001b[30m\t order_number: 3574083\n",
      "\u001b[33mget_code:\u001b[30m\t WAITING\n",
      "\u001b[33mget_code:\u001b[30m\t key: 8f4f7ccd11b3bcbafbffff1212db142d\n",
      "\u001b[33mget_code:\u001b[30m\t order_number: 3574083\n",
      "\u001b[33mget_code:\u001b[30m\t WAITING\n",
      "\u001b[33mget_code:\u001b[30m\t key: 8f4f7ccd11b3bcbafbffff1212db142d\n",
      "\u001b[33mget_code:\u001b[30m\t order_number: 3574083\n",
      "\u001b[33mget_code:\u001b[30m\t WAITING\n",
      "\u001b[33mget_code:\u001b[30m\t key: 8f4f7ccd11b3bcbafbffff1212db142d\n",
      "\u001b[33mget_code:\u001b[30m\t order_number: 3574083\n",
      "\u001b[33mget_code:\u001b[30m\t WAITING\n",
      "\u001b[33mget_code:\u001b[30m\t key: 8f4f7ccd11b3bcbafbffff1212db142d\n",
      "\u001b[33mget_code:\u001b[30m\t order_number: 3574083\n",
      "\u001b[33mget_code:\u001b[30m\t WAITING\n",
      "\u001b[33mget_code:\u001b[30m\t key: 8f4f7ccd11b3bcbafbffff1212db142d\n",
      "\u001b[33mget_code:\u001b[30m\t order_number: 3574083\n",
      "\u001b[33mget_code:\u001b[30m\t WAITING\n",
      "\u001b[33mget_code:\u001b[30m\t key: 8f4f7ccd11b3bcbafbffff1212db142d\n",
      "\u001b[33mget_code:\u001b[30m\t order_number: 3574083\n",
      "\u001b[33mget_code:\u001b[30m\t WAITING\n",
      "\u001b[33mget_code:\u001b[30m\t key: 8f4f7ccd11b3bcbafbffff1212db142d\n",
      "\u001b[33mget_code:\u001b[30m\t order_number: 3574083\n",
      "\u001b[33mget_code:\u001b[30m\t WAITING\n"
     ]
    },
    {
     "ename": "KeyboardInterrupt",
     "evalue": "",
     "output_type": "error",
     "traceback": [
      "\u001b[1;31m---------------------------------------------------------------------------\u001b[0m",
      "\u001b[1;31mKeyboardInterrupt\u001b[0m                         Traceback (most recent call last)",
      "Cell \u001b[1;32mIn[4], line 16\u001b[0m\n\u001b[0;32m     14\u001b[0m \u001b[38;5;28;01mtry\u001b[39;00m:\n\u001b[0;32m     15\u001b[0m     logging(\u001b[38;5;124mf\u001b[39m\u001b[38;5;124m'\u001b[39m\u001b[38;5;130;01m\\t\u001b[39;00m\u001b[38;5;124m Signing in \u001b[39m\u001b[38;5;132;01m{\u001b[39;00msubject_name\u001b[38;5;132;01m}\u001b[39;00m\u001b[38;5;124m on \u001b[39m\u001b[38;5;132;01m{\u001b[39;00mplatform\u001b[38;5;132;01m}\u001b[39;00m\u001b[38;5;124m'\u001b[39m)\n\u001b[1;32m---> 16\u001b[0m     signed \u001b[38;5;241m=\u001b[39m \u001b[43msubject\u001b[49m\u001b[38;5;241;43m.\u001b[39;49m\u001b[43mplatformSignIn\u001b[49m\u001b[43m(\u001b[49m\u001b[43m)\u001b[49m\n\u001b[0;32m     17\u001b[0m \u001b[38;5;28;01mexcept\u001b[39;00m \u001b[38;5;167;01mException\u001b[39;00m \u001b[38;5;28;01mas\u001b[39;00m e:\n\u001b[0;32m     18\u001b[0m     error(\u001b[38;5;124mf\u001b[39m\u001b[38;5;124m'\u001b[39m\u001b[38;5;130;01m\\t\u001b[39;00m\u001b[38;5;124m Error signing in \u001b[39m\u001b[38;5;132;01m{\u001b[39;00msubject_name\u001b[38;5;132;01m}\u001b[39;00m\u001b[38;5;124m on \u001b[39m\u001b[38;5;132;01m{\u001b[39;00mplatform\u001b[38;5;132;01m}\u001b[39;00m\u001b[38;5;124m'\u001b[39m)\n",
      "File \u001b[1;32m~\\Desktop\\sparta-aceap\\engine\\src\\experiment\\Subject.py:146\u001b[0m, in \u001b[0;36mSubject.platformSignIn\u001b[1;34m(self)\u001b[0m\n\u001b[0;32m    144\u001b[0m file \u001b[38;5;241m=\u001b[39m os\u001b[38;5;241m.\u001b[39mpath\u001b[38;5;241m.\u001b[39mjoin(\u001b[38;5;28mself\u001b[39m\u001b[38;5;241m.\u001b[39mpath, \u001b[38;5;124mf\u001b[39m\u001b[38;5;124m'\u001b[39m\u001b[38;5;132;01m{\u001b[39;00m\u001b[38;5;28mself\u001b[39m\u001b[38;5;241m.\u001b[39mid\u001b[38;5;132;01m}\u001b[39;00m\u001b[38;5;124m_\u001b[39m\u001b[38;5;132;01m{\u001b[39;00m\u001b[38;5;28mself\u001b[39m\u001b[38;5;241m.\u001b[39mplatform\u001b[38;5;132;01m}\u001b[39;00m\u001b[38;5;124m.png\u001b[39m\u001b[38;5;124m'\u001b[39m)\n\u001b[0;32m    145\u001b[0m \u001b[38;5;28;01mtry\u001b[39;00m:\n\u001b[1;32m--> 146\u001b[0m     \u001b[43mtrial\u001b[49m\u001b[38;5;241;43m.\u001b[39;49m\u001b[43msignUpUser\u001b[49m\u001b[43m(\u001b[49m\u001b[43m)\u001b[49m\n\u001b[0;32m    147\u001b[0m \u001b[38;5;28;01mexcept\u001b[39;00m \u001b[38;5;167;01mException\u001b[39;00m \u001b[38;5;28;01mas\u001b[39;00m e:\n\u001b[0;32m    148\u001b[0m     error(e)\n",
      "File \u001b[1;32m~\\Desktop\\sparta-aceap\\engine\\src\\experiment\\Trial.py:17\u001b[0m, in \u001b[0;36mTrial.signUpUser\u001b[1;34m(self)\u001b[0m\n\u001b[0;32m     15\u001b[0m \u001b[38;5;28;01mdef\u001b[39;00m \u001b[38;5;21msignUpUser\u001b[39m(\u001b[38;5;28mself\u001b[39m):\n\u001b[0;32m     16\u001b[0m     \u001b[38;5;28mself\u001b[39m\u001b[38;5;241m.\u001b[39muser \u001b[38;5;241m=\u001b[39m User(\u001b[38;5;28mself\u001b[39m\u001b[38;5;241m.\u001b[39mplatform, \u001b[38;5;28mself\u001b[39m\u001b[38;5;241m.\u001b[39muserid, \u001b[38;5;28mself\u001b[39m\u001b[38;5;241m.\u001b[39mexperiment_id)\n\u001b[1;32m---> 17\u001b[0m     \u001b[38;5;28;43mself\u001b[39;49m\u001b[38;5;241;43m.\u001b[39;49m\u001b[43muser\u001b[49m\u001b[38;5;241;43m.\u001b[39;49m\u001b[43mchromeSignUp\u001b[49m\u001b[43m(\u001b[49m\u001b[43m)\u001b[49m\n\u001b[0;32m     18\u001b[0m     wait(\u001b[38;5;241m4\u001b[39m)\n",
      "File \u001b[1;32m~\\Desktop\\sparta-aceap\\engine\\src\\users\\User.py:105\u001b[0m, in \u001b[0;36mUser.chromeSignUp\u001b[1;34m(self)\u001b[0m\n\u001b[0;32m    103\u001b[0m \u001b[38;5;28mself\u001b[39m\u001b[38;5;241m.\u001b[39mplatform\u001b[38;5;241m.\u001b[39mloadWebsite()\n\u001b[0;32m    104\u001b[0m wait(\u001b[38;5;241m4\u001b[39m)\n\u001b[1;32m--> 105\u001b[0m email \u001b[38;5;241m=\u001b[39m \u001b[38;5;28;43mself\u001b[39;49m\u001b[38;5;241;43m.\u001b[39;49m\u001b[43mplatform\u001b[49m\u001b[38;5;241;43m.\u001b[39;49m\u001b[43mchromeLogin\u001b[49m\u001b[43m(\u001b[49m\u001b[43m)\u001b[49m\n\u001b[0;32m    106\u001b[0m \u001b[38;5;28mself\u001b[39m\u001b[38;5;241m.\u001b[39maddSignal(\u001b[38;5;124m'\u001b[39m\u001b[38;5;124mcreate\u001b[39m\u001b[38;5;124m'\u001b[39m, email, \u001b[38;5;124m'\u001b[39m\u001b[38;5;124muser\u001b[39m\u001b[38;5;124m'\u001b[39m, info\u001b[38;5;241m=\u001b[39m\u001b[38;5;28mself\u001b[39m\u001b[38;5;241m.\u001b[39mchromeId)\n\u001b[0;32m    107\u001b[0m wait(\u001b[38;5;241m7\u001b[39m)\n",
      "File \u001b[1;32m~\\Desktop\\sparta-aceap\\engine\\src\\platforms\\Facebook.py:190\u001b[0m, in \u001b[0;36mFacebook.chromeLogin\u001b[1;34m(self)\u001b[0m\n\u001b[0;32m    188\u001b[0m email \u001b[38;5;241m=\u001b[39m \u001b[38;5;124mf\u001b[39m\u001b[38;5;124m'\u001b[39m\u001b[38;5;132;01m{\u001b[39;00mfname\u001b[38;5;132;01m}\u001b[39;00m\u001b[38;5;124m_\u001b[39m\u001b[38;5;132;01m{\u001b[39;00mlname\u001b[38;5;132;01m}\u001b[39;00m\u001b[38;5;124m@spartaaceap.com\u001b[39m\u001b[38;5;124m'\u001b[39m\n\u001b[0;32m    189\u001b[0m info \u001b[38;5;241m=\u001b[39m {\u001b[38;5;124m'\u001b[39m\u001b[38;5;124mfirstname\u001b[39m\u001b[38;5;124m'\u001b[39m: names\u001b[38;5;241m.\u001b[39mget_first_name(), \u001b[38;5;124m'\u001b[39m\u001b[38;5;124mlastname\u001b[39m\u001b[38;5;124m'\u001b[39m: names\u001b[38;5;241m.\u001b[39mget_last_name(), \u001b[38;5;124m'\u001b[39m\u001b[38;5;124memail\u001b[39m\u001b[38;5;124m'\u001b[39m: email, \u001b[38;5;124m'\u001b[39m\u001b[38;5;124mpassword\u001b[39m\u001b[38;5;124m'\u001b[39m: \u001b[38;5;124m'\u001b[39m\u001b[38;5;124mhehehahahoho\u001b[39m\u001b[38;5;124m'\u001b[39m, \u001b[38;5;124m'\u001b[39m\u001b[38;5;124mDOB\u001b[39m\u001b[38;5;124m'\u001b[39m : \u001b[38;5;124mf\u001b[39m\u001b[38;5;124m'\u001b[39m\u001b[38;5;132;01m{\u001b[39;00mmonth\u001b[38;5;132;01m}\u001b[39;00m\u001b[38;5;124m,\u001b[39m\u001b[38;5;132;01m{\u001b[39;00mday\u001b[38;5;132;01m}\u001b[39;00m\u001b[38;5;124m,1997\u001b[39m\u001b[38;5;124m'\u001b[39m}\n\u001b[1;32m--> 190\u001b[0m \u001b[38;5;28;43mself\u001b[39;49m\u001b[38;5;241;43m.\u001b[39;49m\u001b[43mcreateUser\u001b[49m\u001b[43m(\u001b[49m\u001b[43minfo\u001b[49m\u001b[43m)\u001b[49m\n\u001b[0;32m    191\u001b[0m \u001b[38;5;28;01mreturn\u001b[39;00m email\n",
      "File \u001b[1;32m~\\Desktop\\sparta-aceap\\engine\\src\\platforms\\Facebook.py:135\u001b[0m, in \u001b[0;36mFacebook.createUser\u001b[1;34m(self, info)\u001b[0m\n\u001b[0;32m    134\u001b[0m \u001b[38;5;28;01mdef\u001b[39;00m \u001b[38;5;21mcreateUser\u001b[39m(\u001b[38;5;28mself\u001b[39m, info):\n\u001b[1;32m--> 135\u001b[0m     \u001b[38;5;28;43mself\u001b[39;49m\u001b[38;5;241;43m.\u001b[39;49m\u001b[43mcreateUserMobile\u001b[49m\u001b[43m(\u001b[49m\u001b[43minfo\u001b[49m\u001b[43m)\u001b[49m\n\u001b[0;32m    136\u001b[0m     \u001b[38;5;28;01mreturn\u001b[39;00m\n\u001b[0;32m    137\u001b[0m     \u001b[38;5;28mself\u001b[39m\u001b[38;5;241m.\u001b[39mloadPage(Facebook\u001b[38;5;241m.\u001b[39mcreation_url)\n",
      "File \u001b[1;32m~\\Desktop\\sparta-aceap\\engine\\src\\platforms\\Facebook.py:122\u001b[0m, in \u001b[0;36mFacebook.createUserMobile\u001b[1;34m(self, info)\u001b[0m\n\u001b[0;32m    120\u001b[0m code \u001b[38;5;241m=\u001b[39m sms\u001b[38;5;241m.\u001b[39mget_code()\n\u001b[0;32m    121\u001b[0m \u001b[38;5;28;01mwhile\u001b[39;00m code \u001b[38;5;241m==\u001b[39m \u001b[38;5;241m-\u001b[39m\u001b[38;5;241m1\u001b[39m:\n\u001b[1;32m--> 122\u001b[0m     \u001b[43mwait\u001b[49m\u001b[43m(\u001b[49m\u001b[38;5;241;43m2\u001b[39;49m\u001b[43m)\u001b[49m\n\u001b[0;32m    123\u001b[0m     code \u001b[38;5;241m=\u001b[39m sms\u001b[38;5;241m.\u001b[39mget_code()\n\u001b[0;32m    124\u001b[0m debug(code)\n",
      "File \u001b[1;32m~\\Desktop\\sparta-aceap\\engine\\src\\utils\\util.py:26\u001b[0m, in \u001b[0;36mwait\u001b[1;34m(sec)\u001b[0m\n\u001b[0;32m     23\u001b[0m \u001b[38;5;28;01mdef\u001b[39;00m \u001b[38;5;21mwait\u001b[39m(sec):\n\u001b[0;32m     24\u001b[0m     \u001b[38;5;66;03m# sleep for sec but preturb randomly\u001b[39;00m\n\u001b[0;32m     25\u001b[0m     sec \u001b[38;5;241m=\u001b[39m sec \u001b[38;5;241m+\u001b[39m random\u001b[38;5;241m.\u001b[39muniform(\u001b[38;5;241m0\u001b[39m, \u001b[38;5;241m1\u001b[39m)\n\u001b[1;32m---> 26\u001b[0m     sleep(sec)\n",
      "\u001b[1;31mKeyboardInterrupt\u001b[0m: "
     ]
    }
   ],
   "source": [
    "subject_names = list(subjects.keys())\n",
    "for subject_name in subject_names:\n",
    "    IP.shuffle(subject_name)\n",
    "    chrome = subjects[subject_name]['YouTube']\n",
    "    signed = chrome.checkChromeSignin()\n",
    "    debug(f'Chrome signed in: {signed}')\n",
    "    if not signed:\n",
    "        error(f'Chrome not signed in: {subject_name}')\n",
    "        chrome.chromeSignIn()\n",
    "\n",
    "    for platform in platforms:\n",
    "        logging(f'Platform: {platform}, Subject: {subject_name}')\n",
    "        subject = subjects[subject_name][platform]\n",
    "        try:\n",
    "            logging(f'\\t Signing in {subject_name} on {platform}')\n",
    "            signed = subject.platformSignIn()\n",
    "        except Exception as e:\n",
    "            error(f'\\t Error signing in {subject_name} on {platform}')\n",
    "            error(f'\\t {e}')\n",
    "        debug(f'Signed in {subject_name} on {platform}')\n",
    "    bigWait(10)"
   ]
  },
  {
   "cell_type": "code",
   "execution_count": 16,
   "metadata": {},
   "outputs": [],
   "source": [
    "import pyautogui as gui\n",
    "gui.moveTo(1140, 720)\n",
    "wait(1)\n",
    "gui.click()"
   ]
  },
  {
   "cell_type": "code",
   "execution_count": 6,
   "metadata": {},
   "outputs": [
    {
     "name": "stdout",
     "output_type": "stream",
     "text": [
      "\u001b[33mchromeSignIn:\u001b[30m\t SIGNING IN: xp9aceap10\n"
     ]
    },
    {
     "ename": "KeyboardInterrupt",
     "evalue": "",
     "output_type": "error",
     "traceback": [
      "\u001b[1;31m---------------------------------------------------------------------------\u001b[0m",
      "\u001b[1;31mKeyboardInterrupt\u001b[0m                         Traceback (most recent call last)",
      "Cell \u001b[1;32mIn[6], line 5\u001b[0m\n\u001b[0;32m      2\u001b[0m \u001b[38;5;28;01mfrom\u001b[39;00m \u001b[38;5;21;01musers\u001b[39;00m\u001b[38;5;21;01m.\u001b[39;00m\u001b[38;5;21;01mUser\u001b[39;00m \u001b[38;5;28;01mimport\u001b[39;00m User\n\u001b[0;32m      4\u001b[0m user \u001b[38;5;241m=\u001b[39m User(Youtube, \u001b[38;5;124m'\u001b[39m\u001b[38;5;124mxp9aceap10\u001b[39m\u001b[38;5;124m'\u001b[39m, \u001b[38;5;124m'\u001b[39m\u001b[38;5;124m'\u001b[39m)\n\u001b[1;32m----> 5\u001b[0m \u001b[43muser\u001b[49m\u001b[38;5;241;43m.\u001b[39;49m\u001b[43mchromeSignIn\u001b[49m\u001b[43m(\u001b[49m\u001b[43m)\u001b[49m\n",
      "File \u001b[1;32m~\\Desktop\\sparta-aceap\\engine\\src\\users\\User.py:96\u001b[0m, in \u001b[0;36mUser.chromeSignIn\u001b[1;34m(self)\u001b[0m\n\u001b[0;32m     94\u001b[0m debug(\u001b[38;5;124mf\u001b[39m\u001b[38;5;124m'\u001b[39m\u001b[38;5;124mSIGNING IN: \u001b[39m\u001b[38;5;132;01m{\u001b[39;00m\u001b[38;5;28mself\u001b[39m\u001b[38;5;241m.\u001b[39mchromeId\u001b[38;5;132;01m}\u001b[39;00m\u001b[38;5;124m'\u001b[39m)\n\u001b[0;32m     95\u001b[0m \u001b[38;5;28mself\u001b[39m\u001b[38;5;241m.\u001b[39mplatform \u001b[38;5;241m=\u001b[39m \u001b[38;5;28mself\u001b[39m\u001b[38;5;241m.\u001b[39mPlatform(\u001b[38;5;28mself\u001b[39m\u001b[38;5;241m.\u001b[39mchromeId)\n\u001b[1;32m---> 96\u001b[0m \u001b[38;5;28;43mself\u001b[39;49m\u001b[38;5;241;43m.\u001b[39;49m\u001b[43mplatform\u001b[49m\u001b[38;5;241;43m.\u001b[39;49m\u001b[43mloadBrowser\u001b[49m\u001b[43m(\u001b[49m\u001b[43m)\u001b[49m\n\u001b[0;32m     97\u001b[0m \u001b[38;5;28mself\u001b[39m\u001b[38;5;241m.\u001b[39mplatform\u001b[38;5;241m.\u001b[39mloadWebsite()\n\u001b[0;32m     98\u001b[0m wait(\u001b[38;5;241m2\u001b[39m)\n",
      "File \u001b[1;32m~\\Desktop\\sparta-aceap\\engine\\src\\platforms\\Platform.py:47\u001b[0m, in \u001b[0;36mPlatform.loadBrowser\u001b[1;34m(self)\u001b[0m\n\u001b[0;32m     44\u001b[0m     os\u001b[38;5;241m.\u001b[39mmkdir(path)\n\u001b[0;32m     46\u001b[0m \u001b[38;5;28;01mtry\u001b[39;00m:\n\u001b[1;32m---> 47\u001b[0m     browser \u001b[38;5;241m=\u001b[39m \u001b[43mBrowser\u001b[49m\u001b[43m(\u001b[49m\u001b[38;5;28;43mid\u001b[39;49m\u001b[43m)\u001b[49m\n\u001b[0;32m     48\u001b[0m \u001b[38;5;28;01mexcept\u001b[39;00m \u001b[38;5;167;01mException\u001b[39;00m \u001b[38;5;28;01mas\u001b[39;00m e:\n\u001b[0;32m     49\u001b[0m     error(e)\n",
      "File \u001b[1;32m~\\Desktop\\sparta-aceap\\engine\\src\\browser\\Selenium.py:27\u001b[0m, in \u001b[0;36mBrowser.__init__\u001b[1;34m(self, session)\u001b[0m\n\u001b[0;32m     25\u001b[0m sleep(\u001b[38;5;241m4\u001b[39m)\n\u001b[0;32m     26\u001b[0m gui\u001b[38;5;241m.\u001b[39mhotkey(\u001b[38;5;124m'\u001b[39m\u001b[38;5;124mwin\u001b[39m\u001b[38;5;124m'\u001b[39m, \u001b[38;5;124m'\u001b[39m\u001b[38;5;124mup\u001b[39m\u001b[38;5;124m'\u001b[39m)\n\u001b[1;32m---> 27\u001b[0m sleep(\u001b[38;5;241m2\u001b[39m)\n\u001b[0;32m     28\u001b[0m \u001b[38;5;28;01mreturn\u001b[39;00m \n\u001b[0;32m     31\u001b[0m \u001b[38;5;66;03m# SELENIUM\u001b[39;00m\n",
      "\u001b[1;31mKeyboardInterrupt\u001b[0m: "
     ]
    }
   ],
   "source": [
    "from platforms.Youtube import Youtube\n",
    "from users.User import User\n",
    "\n",
    "user = User(Youtube, 'xp9aceap10', '')\n",
    "user.chromeSignIn()"
   ]
  },
  {
   "cell_type": "code",
   "execution_count": null,
   "metadata": {},
   "outputs": [],
   "source": [
    "subject_names = list(subjects.keys())\n",
    "for subject_name in subject_names:\n",
    "    IP.shuffle(subject_name)\n",
    "    for platform in platforms:\n",
    "        print(f'Platform: {platform}, Subject: {subject_name}')\n",
    "        subject = subjects[subject_name][platform]\n",
    "        signed = subject.platformSignin()\n",
    "        debug(f'Platform: {platform}, Subject: {subject_name}, Signed: {signed}')\n",
    "        input('Press Enter to continue')"
   ]
  },
  {
   "cell_type": "code",
   "execution_count": null,
   "metadata": {},
   "outputs": [],
   "source": [
    "subject_names"
   ]
  },
  {
   "cell_type": "markdown",
   "metadata": {},
   "source": [
    "# Observation"
   ]
  },
  {
   "cell_type": "code",
   "execution_count": null,
   "metadata": {},
   "outputs": [],
   "source": [
    "subject_names = list(subjects.keys())\n",
    "for subject_name in subject_names:\n",
    "    IP.shuffle(subject_name)\n",
    "    chrome = subjects[subject_name]['YouTube']\n",
    "    signed = chrome.checkChromeSignin()\n",
    "    debug(f'Chrome signed in: {signed}')\n",
    "    if not signed:\n",
    "        error(f'Chrome not signed in: {subject_name}')\n",
    "        chrome.chromeSignIn()\n",
    "\n",
    "    for platform in platforms:\n",
    "        print(f'Platform: {platform}, Subject: {subject_name}')\n",
    "        subject = subjects[subject_name][platform]\n",
    "        debug(f'Checking signin for {subject_name} on {platform}')\n",
    "        wait(3)\n",
    "        if not subject.checkSignin():\n",
    "            error(f'{subject_name} not signed in on {platform}')\n",
    "            error(f'Attempting to sign in {subject_name} on {platform}')\n",
    "            wait(3)\n",
    "            try:\n",
    "                subject.platformSignIn()\n",
    "            except Exception as e:\n",
    "                error(f'Error signing in {subject_name} on {platform}')\n",
    "                error(e)\n",
    "                continue\n",
    "            wait(3)\n",
    "\n",
    "        try:\n",
    "            debug(f'Observing {subject_name} on {platform}')\n",
    "            subject.observe(pre=True)\n",
    "        except Exception as e:\n",
    "            error(f'Error observing {subject_name} on {platform}')\n",
    "            error(e)\n",
    "    bigWait(10)"
   ]
  },
  {
   "cell_type": "markdown",
   "metadata": {},
   "source": [
    "# Treatment"
   ]
  },
  {
   "cell_type": "code",
   "execution_count": null,
   "metadata": {},
   "outputs": [],
   "source": [
    "import os\n",
    "def closeAllChrome():\n",
    "    try:\n",
    "        os.system(\"taskkill /im chrome.exe /f\")\n",
    "    except Exception as e:\n",
    "        error(e)\n",
    "\n",
    "closeAllChrome()"
   ]
  },
  {
   "cell_type": "code",
   "execution_count": null,
   "metadata": {},
   "outputs": [],
   "source": [
    "subject_names = list(subjects.keys())\n",
    "for subject_name in subject_names[2:]:\n",
    "    IP.shuffle(subject_name)\n",
    "    chrome = subjects[subject_name]['YouTube']\n",
    "    signed = chrome.checkChromeSignin()\n",
    "    debug(f'Chrome signed in: {signed}')\n",
    "    if not signed:\n",
    "        error(f'Chrome not signed in: {subject_name}')\n",
    "        chrome.chromeSignIn()\n",
    "\n",
    "    for platform in platforms:\n",
    "        print(f'Platform: {platform}, Subject: {subject_name}')\n",
    "        subject = subjects[subject_name][platform]\n",
    "        debug(f'Checking signin for {subject_name} on {platform}')\n",
    "        wait(3)\n",
    "        if not subject.checkSignin():\n",
    "            error(f'{subject_name} not signed in on {platform}')\n",
    "            error(f'Attempting to sign in {subject_name} on {platform}')\n",
    "            wait(3)\n",
    "            try:\n",
    "                subject.platformSignIn()\n",
    "            except Exception as e:\n",
    "                subject.close()\n",
    "                error(f'Error signing in {subject_name} on {platform}')\n",
    "                error(e)\n",
    "                continue\n",
    "            wait(3)\n",
    "\n",
    "        try:\n",
    "            debug(f'Treatment {subject_name} on {platform}')\n",
    "            subject.treatment()\n",
    "        except Exception as e:\n",
    "            error(f'Error observing {subject_name} on {platform}')\n",
    "            error(e)\n",
    "    closeAllChrome()\n",
    "    bigWait(10)"
   ]
  },
  {
   "cell_type": "code",
   "execution_count": null,
   "metadata": {},
   "outputs": [],
   "source": [
    "subject_names = list(subjects.keys())\n",
    "for subject_name in subject_names:\n",
    "    IP.shuffle(subject_name)\n",
    "    chrome = subjects[subject_name]['YouTube']\n",
    "    signed = chrome.checkChromeSignin()\n",
    "    debug(f'Chrome signed in: {signed}')\n",
    "    if not signed:\n",
    "        error(f'Chrome not signed in: {subject_name}')\n",
    "        chrome.chromeSignIn()\n",
    "\n",
    "    for platform in platforms:\n",
    "        print(f'Platform: {platform}, Subject: {subject_name}')\n",
    "        subject = subjects[subject_name][platform]\n",
    "        debug(f'Checking signin for {subject_name} on {platform}')\n",
    "        wait(3)\n",
    "        if not subject.checkSignin():\n",
    "            error(f'{subject_name} not signed in on {platform}')\n",
    "            error(f'Attempting to sign in {subject_name} on {platform}')\n",
    "            wait(3)\n",
    "            try:\n",
    "                subject.platformSignIn()\n",
    "            except Exception as e:\n",
    "                error(f'Error signing in {subject_name} on {platform}')\n",
    "                error(e)\n",
    "                continue\n",
    "            wait(3)\n",
    "\n",
    "        try:\n",
    "            debug(f'Observing {subject_name} on {platform}')\n",
    "            subject.observe(pre=True)\n",
    "        except Exception as e:\n",
    "            error(f'Error observing {subject_name} on {platform}')\n",
    "            error(e)\n",
    "    bigWait(5)"
   ]
  },
  {
   "cell_type": "code",
   "execution_count": null,
   "metadata": {},
   "outputs": [],
   "source": [
    "treatments = dict()\n",
    "subject_names = list(subjects.keys())\n",
    "for subject_name in subject_names:\n",
    "    treatments[subject_name] = dict()\n",
    "    for platform in subjects[subject_name]:\n",
    "        try:\n",
    "            treatments[subject_name][platform] = subject.get_treatments()\n",
    "        except Exception as e:\n",
    "            error(e)"
   ]
  },
  {
   "cell_type": "code",
   "execution_count": null,
   "metadata": {},
   "outputs": [],
   "source": []
  },
  {
   "cell_type": "code",
   "execution_count": null,
   "metadata": {},
   "outputs": [],
   "source": [
    "import pickle as pkl\n",
    "import pandas as pd\n",
    "import json\n",
    "import sqlite3 as sql\n",
    "\n",
    "from experiment.Experiment import Experiment\n",
    "from experiment.Subject import Subject\n",
    "\n",
    "def uploadResults(platform):\n",
    "    config_file = 'config.json'\n",
    "    config = json.load(open(config_file, 'r'))\n",
    "    experiment = Experiment(config_file, platform)\n",
    "    subjects = experiment.get_subjects()\n",
    "\n",
    "    users = []\n",
    "    for user in subjects:\n",
    "        treatments = user.get_treatments()\n",
    "        for tick in treatments:\n",
    "            pre, post = user.get_observations(tick)\n",
    "            treatments[tick]['pre'] = pre\n",
    "            treatments[tick]['post'] = post\n",
    "\n",
    "        users.append(treatments)\n",
    "\n",
    "    pkl.dump(users, open(f'{platform}-results.pkl', 'wb'))\n",
    "\n",
    "    return users"
   ]
  }
 ],
 "metadata": {
  "kernelspec": {
   "display_name": "Python 3",
   "language": "python",
   "name": "python3"
  },
  "language_info": {
   "codemirror_mode": {
    "name": "ipython",
    "version": 3
   },
   "file_extension": ".py",
   "mimetype": "text/x-python",
   "name": "python",
   "nbconvert_exporter": "python",
   "pygments_lexer": "ipython3",
   "version": "3.11.8"
  }
 },
 "nbformat": 4,
 "nbformat_minor": 2
}

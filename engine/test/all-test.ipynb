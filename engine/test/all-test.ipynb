{
 "cells": [
  {
   "cell_type": "code",
   "execution_count": 1,
   "metadata": {},
   "outputs": [],
   "source": [
    "import sys\n",
    "sys.path.append('../src')\n",
    "from utils.util import wait\n",
    "from utils.log import debug\n",
    "from utils.shuffleIP import shuffle as shuffleIP\n",
    "from selenium.webdriver.common.by import By"
   ]
  },
  {
   "cell_type": "code",
   "execution_count": 2,
   "metadata": {},
   "outputs": [],
   "source": [
    "# shuffleIP()"
   ]
  },
  {
   "cell_type": "code",
   "execution_count": 3,
   "metadata": {},
   "outputs": [],
   "source": [
    "def getPosts(platform, scrolls=4, posts_n=10):\n",
    "    \"\"\"\n",
    "    Scrolls down the page and gets all the posts\n",
    "    \"\"\"\n",
    "    posts = []\n",
    "    \n",
    "    if platform.name == 'facebook':\n",
    "        for i in range(scrolls):\n",
    "            platform.scrollDown()\n",
    "            wait(1)\n",
    "        platform.scrollTop()\n",
    "        posts = platform.getPagePosts(posts_n+5)\n",
    "        return posts\n",
    "    \n",
    "    for i in range(scrolls):\n",
    "        platform.scrollDown()\n",
    "        posts += platform.getPagePosts(posts_n)\n",
    "        wait(2)\n",
    "\n",
    "    return posts"
   ]
  },
  {
   "cell_type": "code",
   "execution_count": 4,
   "metadata": {},
   "outputs": [],
   "source": [
    "from platforms.Facebook import Facebook\n",
    "platform = Facebook\n",
    "\n",
    "# from platforms.Reddit import Reddit\n",
    "# platform = Reddit\n",
    "\n",
    "# from platforms.Twitter import Twitter\n",
    "# platform = Twitter\n",
    "\n",
    "# from platforms.Youtube import Youtube \n",
    "# platform = Youtube"
   ]
  },
  {
   "cell_type": "code",
   "execution_count": 5,
   "metadata": {},
   "outputs": [
    {
     "name": "stdout",
     "output_type": "stream",
     "text": [
      "\u001b[32mloadSession:\u001b[37m\t C:\\Users\\hussa\\Desktop\\sparta-aceap\\engine\\data\\sessions\\3\n"
     ]
    }
   ],
   "source": [
    "user = platform('3')\n",
    "user.loadBrowser()\n",
    "user.loadWebsite()"
   ]
  },
  {
   "cell_type": "code",
   "execution_count": 6,
   "metadata": {},
   "outputs": [
    {
     "name": "stdout",
     "output_type": "stream",
     "text": [
      "\u001b[32m<module>:\u001b[37m\t TESTING LIKE...\n",
      "\u001b[32m<module>:\u001b[37m\t Searching...\n",
      "\u001b[32mgetPostInfo:\u001b[37m\t Not a post\n",
      "\u001b[32mpressLike:\u001b[37m\t Liked\n",
      "\u001b[32m<module>:\u001b[37m\t Post liked: ({'id': 'https://www.facebook.com/search/posts/?q=reddevils#', 'platform': 'facebook', 'origin': 'results', 'position': 3, 'type': 'post', 'source': 'JR GR', 'secondary_source': 'https://www.facebook.com/stories/123016886289322/UzpfSVNDOjEzMDg0OTM5ODY0OTY3ODg=/', 'likes': 99, 'comments': 1, 'shares': 1, 'views': '', 'created_at': None, 'title': 'Sofyan Amrabat played 90 mins and was awarded the MOTM award as Morocco beat Zambia 0-1 \\n#manutd #reddevils #mufc #oldtrafford #ggmu #manchesterunited #afcon2023 \\n#homeofmanchesterunited #manchester #united #manchesterunitedfans #EPL', 'description': None, 'media': '', 'url': 'https://www.facebook.com/search/posts/?q=reddevils#', 'is_ad': False}, [])\n"
     ]
    }
   ],
   "source": [
    "debug('TESTING LIKE...')\n",
    "user.loadWebsite()\n",
    "wait(4)\n",
    "debug('Searching...')\n",
    "user.searchTerm('reddevils')\n",
    "wait(3)\n",
    "post = user.likePost()\n",
    "debug(f\"Post liked: {post}\")"
   ]
  },
  {
   "cell_type": "code",
   "execution_count": 6,
   "metadata": {},
   "outputs": [
    {
     "name": "stdout",
     "output_type": "stream",
     "text": [
      "\u001b[32m<module>:\u001b[37m\t TESTING FOLLOW...\n",
      "\u001b[32m<module>:\u001b[37m\t Searching...\n",
      "\u001b[32m<module>:\u001b[37m\t following\n",
      "\u001b[32m_followFirstPage:\u001b[33m\t Already following\n",
      "\u001b[32m_followFirstPage:\u001b[37m\t Followed Tucker Carlson Network\n",
      "\u001b[32m<module>:\u001b[37m\t User Followed: {'id': 'https://www.facebook.com/TuckerCarlsonNetwork', 'platform': 'facebook', 'origin': 'search', 'position': 1, 'type': 'https://www.facebook.com/TuckerCarlsonNetwork', 'name': 'Tucker Carlson Network', 'secondary_source': None, 'followers': 0, 'description': None, 'engagement': None, 'url': 'https://www.facebook.com/TuckerCarlsonNetwork'}\n"
     ]
    }
   ],
   "source": [
    "debug('TESTING FOLLOW...')\n",
    "user.loadWebsite()\n",
    "wait(4)\n",
    "debug('Searching...')\n",
    "user.searchTerm('tucker carlson')\n",
    "wait(3)\n",
    "debug('following')\n",
    "userFollowed = user.followUser()\n",
    "debug(f\"User Followed: {userFollowed}\")\n",
    "wait(3)"
   ]
  },
  {
   "cell_type": "code",
   "execution_count": 53,
   "metadata": {},
   "outputs": [],
   "source": [
    "info = user.driver.find_elements(By.XPATH, f\"//span[@dir='auto']\")[1]\n",
    "likes = info.text.split('•')[0]\n",
    "likes = likes[0].text.split(' ')[0]\n",
    "likes = convertStringToNumber(likes)\n",
    "\n",
    "followers = info.text.split('•')[1]\n",
    "followers = followers[0].text.split(' ')[0]\n",
    "followers = convertStringToNumber(followers)"
   ]
  },
  {
   "cell_type": "code",
   "execution_count": 52,
   "metadata": {},
   "outputs": [
    {
     "data": {
      "text/plain": [
       "'40K likes '"
      ]
     },
     "execution_count": 52,
     "metadata": {},
     "output_type": "execute_result"
    }
   ],
   "source": []
  },
  {
   "cell_type": "code",
   "execution_count": 43,
   "metadata": {},
   "outputs": [
    {
     "data": {
      "text/plain": [
       "'<h1 class=\"x1heor9g x1qlqyl8 x1pd3egz x1a2a7pz\">Tucker Carlson Network<!-- -->&nbsp;<span class=\"\"></span></h1>'"
      ]
     },
     "execution_count": 43,
     "metadata": {},
     "output_type": "execute_result"
    }
   ],
   "source": [
    "info.get_attribute('innerHTML')"
   ]
  },
  {
   "cell_type": "code",
   "execution_count": 33,
   "metadata": {},
   "outputs": [],
   "source": [
    "followers = user.driver.find_elements(By.XPATH, '//a[@href=\"%s/followers\"]' % 'https://www.facebook.com/TuckerCarlsonNetwork')"
   ]
  },
  {
   "cell_type": "code",
   "execution_count": 34,
   "metadata": {},
   "outputs": [
    {
     "data": {
      "text/plain": [
       "1"
      ]
     },
     "execution_count": 34,
     "metadata": {},
     "output_type": "execute_result"
    }
   ],
   "source": [
    "len(followers)"
   ]
  },
  {
   "cell_type": "code",
   "execution_count": 36,
   "metadata": {},
   "outputs": [
    {
     "data": {
      "text/plain": [
       "'Followers'"
      ]
     },
     "execution_count": 36,
     "metadata": {},
     "output_type": "execute_result"
    }
   ],
   "source": [
    "followers[0].text"
   ]
  },
  {
   "cell_type": "code",
   "execution_count": 28,
   "metadata": {},
   "outputs": [],
   "source": []
  },
  {
   "cell_type": "code",
   "execution_count": 32,
   "metadata": {},
   "outputs": [
    {
     "data": {
      "text/plain": [
       "'Andrew Tate'"
      ]
     },
     "execution_count": 32,
     "metadata": {},
     "output_type": "execute_result"
    }
   ],
   "source": []
  },
  {
   "cell_type": "code",
   "execution_count": 8,
   "metadata": {},
   "outputs": [
    {
     "name": "stdout",
     "output_type": "stream",
     "text": [
      "\u001b[32m<module>:\u001b[37m\t TESTING JOINING...\n",
      "\u001b[32m<module>:\u001b[37m\t Searching...\n",
      "\u001b[32m<module>:\u001b[37m\t following\n",
      "\u001b[32m_joinNthSubreddit:\u001b[37m\t AndrewTateUncensored\n",
      "\u001b[32m<module>:\u001b[37m\t Community Joined: {'id': 'AndrewTateUncensored', 'platform': 'reddit', 'origin': 'search', 'position': 0, 'type': 'community', 'name': 'AndrewTateUncensored', 'secondary_source': None, 'followers': 4653, 'description': 'Welcome G to Andrew Tate Uncensored community! \\nThis subreddit is for Tate’s fans.', 'engagement': None, 'url': '/r/AndrewTateUncensored/'}\n"
     ]
    }
   ],
   "source": [
    "debug('TESTING JOINING...')\n",
    "user.loadWebsite()\n",
    "wait(4)\n",
    "debug('Searching...')\n",
    "user.searchTerm('andrew tate')\n",
    "wait(3)\n",
    "debug('following')\n",
    "community = user.joinCommunity()\n",
    "debug(f\"Community Joined: {community}\")\n",
    "wait(3)"
   ]
  },
  {
   "cell_type": "code",
   "execution_count": 9,
   "metadata": {},
   "outputs": [
    {
     "name": "stdout",
     "output_type": "stream",
     "text": [
      "\u001b[32m<module>:\u001b[37m\t TESTING OBSERVATION...\n"
     ]
    },
    {
     "name": "stderr",
     "output_type": "stream",
     "text": [
      "100%|██████████| 16/16 [00:10<00:00,  1.47it/s]\n",
      "100%|██████████| 32/32 [00:12<00:00,  2.57it/s]\n",
      "100%|██████████| 53/53 [00:20<00:00,  2.59it/s] \n",
      "100%|██████████| 75/75 [00:09<00:00,  7.93it/s] \n",
      "100%|██████████| 103/103 [00:12<00:00,  8.04it/s]\n"
     ]
    },
    {
     "name": "stdout",
     "output_type": "stream",
     "text": [
      "\u001b[32m<module>:\u001b[37m\t Posts: 279\n",
      "\u001b[32m<module>:\u001b[37m\t Posts: {'id': '1abd7ys', 'platform': 'reddit', 'origin': 'home', 'position': 0, 'type': 'post', 'source': 'gaming', 'secondary_source': 'gaming', 'likes': 299, 'comments': 14, 'shares': None, 'views': None, 'created_at': 1706255811.0, 'title': 'Yakuza did it first', 'description': '', 'media': None, 'url': 'https://i.redd.it/c0vxogkjqqec1.jpeg', 'is_ad': None}\n"
     ]
    }
   ],
   "source": [
    "debug('TESTING OBSERVATION...')\n",
    "user.loadWebsite()\n",
    "wait(4)\n",
    "user.getHomePage()\n",
    "wait(2)\n",
    "posts = getPosts(user, 5)\n",
    "debug(f\"Posts: {len(posts)}\")\n",
    "debug(f\"Posts: {posts[0]}\")"
   ]
  },
  {
   "cell_type": "code",
   "execution_count": null,
   "metadata": {},
   "outputs": [],
   "source": []
  }
 ],
 "metadata": {
  "kernelspec": {
   "display_name": "Python 3",
   "language": "python",
   "name": "python3"
  },
  "language_info": {
   "codemirror_mode": {
    "name": "ipython",
    "version": 3
   },
   "file_extension": ".py",
   "mimetype": "text/x-python",
   "name": "python",
   "nbconvert_exporter": "python",
   "pygments_lexer": "ipython3",
   "version": "3.11.7"
  }
 },
 "nbformat": 4,
 "nbformat_minor": 2
}

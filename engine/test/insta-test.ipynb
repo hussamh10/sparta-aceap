{
 "cells": [
  {
   "cell_type": "code",
   "execution_count": 1,
   "metadata": {},
   "outputs": [],
   "source": [
    "import sys\n",
    "sys.path.append('../src')\n",
    "from utils.util import wait\n",
    "from utils.shuffleIP import shuffle as shuffleIP\n",
    "from selenium.webdriver.common.by import By\n",
    "from platforms.Instagram import Instagram"
   ]
  },
  {
   "cell_type": "code",
   "execution_count": 2,
   "metadata": {},
   "outputs": [
    {
     "name": "stdout",
     "output_type": "stream",
     "text": [
      "\u001b[32mshuffle:\u001b[37m\t Shuffling IP\n"
     ]
    }
   ],
   "source": [
    "shuffleIP()"
   ]
  },
  {
   "cell_type": "code",
   "execution_count": 6,
   "metadata": {},
   "outputs": [
    {
     "name": "stdout",
     "output_type": "stream",
     "text": [
      "\u001b[32mloadSession:\u001b[37m\t C:\\Users\\hussa\\Desktop\\sparta-aceap\\engine\\data\\sessions\\3\n"
     ]
    }
   ],
   "source": [
    "user = Instagram('3')\n",
    "user.loadBrowser()\n",
    "user.loadWebsite()"
   ]
  },
  {
   "cell_type": "code",
   "execution_count": 5,
   "metadata": {},
   "outputs": [],
   "source": [
    "driver = user.driver"
   ]
  },
  {
   "cell_type": "code",
   "execution_count": 33,
   "metadata": {},
   "outputs": [],
   "source": [
    "driver.back()"
   ]
  },
  {
   "cell_type": "code",
   "execution_count": 12,
   "metadata": {},
   "outputs": [],
   "source": [
    "user.searchTerm('nike')"
   ]
  },
  {
   "cell_type": "code",
   "execution_count": 10,
   "metadata": {},
   "outputs": [],
   "source": [
    "driver = user.driver"
   ]
  },
  {
   "cell_type": "code",
   "execution_count": 15,
   "metadata": {},
   "outputs": [],
   "source": [
    "from utils.util import convertStringToNumber\n",
    "\n",
    "def FollowUserPage(user):\n",
    "    wait(1)\n",
    "    try:\n",
    "        hrefs = user.driver.find_elements(By.TAG_NAME, 'a')\n",
    "        for href in hrefs:\n",
    "            url = href.get_attribute('href')\n",
    "            if '/followers/' in url:\n",
    "                span = href.find_element('tag name', 'span')\n",
    "                f = span.text\n",
    "\n",
    "        followers = convertStringToNumber(f)\n",
    "    except:\n",
    "        followers = 0\n",
    "\n",
    "    follow_buttons = user.driver.find_elements(By.XPATH, '//div[text()=\"Follow\"]')\n",
    "    \n",
    "    if len(follow_buttons) > 0:\n",
    "        follow_buttons[0].click()\n",
    "        wait(2)\n",
    "        return followers\n",
    "\n",
    "    print('Aready followed')\n",
    "    return None"
   ]
  },
  {
   "cell_type": "code",
   "execution_count": 61,
   "metadata": {},
   "outputs": [
    {
     "name": "stdout",
     "output_type": "stream",
     "text": [
      "nike\n",
      "Already following\n",
      "nikefootball\n",
      "Already following\n",
      "doniketabi\n",
      "{'name': 'doniketabi', 'followers': 775000, 'url': 'https://www.instagram.com/doniketabi/'}\n"
     ]
    }
   ],
   "source": [
    "def FollowUser(user):\n",
    "    driver = user.driver\n",
    "    result_pane = driver.find_elements(By.XPATH, '//div[@style=\"opacity: 1;\"]')[0]\n",
    "\n",
    "    results = result_pane.find_elements('tag name', 'a')\n",
    "    results = [result for result in results if result.find_element('xpath', '../../../../../..') == result_pane]\n",
    "    follower = dict()\n",
    "\n",
    "    for result in results:\n",
    "        url = result.get_attribute('href')\n",
    "        name = url.split('/')[-2]\n",
    "        text = result.text\n",
    "        print(name)\n",
    "        wait(1)\n",
    "        if 'Following' in text:\n",
    "            print('Already following')\n",
    "            continue\n",
    "\n",
    "        result.click()\n",
    "        wait(3)\n",
    "        follower['name'] = name\n",
    "        follower['url'] = url\n",
    "\n",
    "        follower_count = FollowUserPage(driver)\n",
    "        if follower_count is not None:\n",
    "            follower['followers'] = follower_count\n",
    "        else:\n",
    "            continue\n",
    "\n",
    "        wait(2)\n",
    "        driver.back()\n",
    "\n",
    "    return follower\n"
   ]
  },
  {
   "cell_type": "code",
   "execution_count": 11,
   "metadata": {},
   "outputs": [],
   "source": [
    "FollowUser(user)"
   ]
  },
  {
   "cell_type": "code",
   "execution_count": 3,
   "metadata": {},
   "outputs": [
    {
     "name": "stdout",
     "output_type": "stream",
     "text": [
      "\u001b[32m_followFirstPage:\u001b[37m\t Followed Dr Jordan B Peterson\n"
     ]
    }
   ],
   "source": [
    "wait(3)\n",
    "user.searchTerm('Jordan Peterson')\n",
    "wait(4)\n",
    "post = user.followUser()"
   ]
  },
  {
   "cell_type": "code",
   "execution_count": 4,
   "metadata": {},
   "outputs": [],
   "source": [
    "user.loadWebsite()"
   ]
  },
  {
   "cell_type": "code",
   "execution_count": 3,
   "metadata": {},
   "outputs": [
    {
     "name": "stdout",
     "output_type": "stream",
     "text": [
      "\u001b[32mjoinCommunity:\u001b[37m\t Clicked group Button\n",
      "\u001b[32m_joinFromResults:\u001b[37m\t RESULTS: 27\n",
      "\u001b[32misJoinable:\u001b[37m\t Already joined - Continue\n",
      "\u001b[32misJoinable:\u001b[37m\t Already joined - Continue\n",
      "\u001b[32m_joinFromResults:\u001b[37m\t Joined\n"
     ]
    },
    {
     "ename": "ValueError",
     "evalue": "too many values to unpack (expected 2)",
     "output_type": "error",
     "traceback": [
      "\u001b[1;31m---------------------------------------------------------------------------\u001b[0m",
      "\u001b[1;31mValueError\u001b[0m                                Traceback (most recent call last)",
      "Cell \u001b[1;32mIn[3], line 4\u001b[0m\n\u001b[0;32m      2\u001b[0m user\u001b[38;5;241m.\u001b[39msearchTerm(\u001b[38;5;124m'\u001b[39m\u001b[38;5;124mAndrew Tate\u001b[39m\u001b[38;5;124m'\u001b[39m)\n\u001b[0;32m      3\u001b[0m wait(\u001b[38;5;241m4\u001b[39m)\n\u001b[1;32m----> 4\u001b[0m post, opened \u001b[38;5;241m=\u001b[39m user\u001b[38;5;241m.\u001b[39mjoinCommunity()\n",
      "\u001b[1;31mValueError\u001b[0m: too many values to unpack (expected 2)"
     ]
    }
   ],
   "source": [
    "wait(1)\n",
    "user.searchTerm('Andrew Tate')\n",
    "wait(4)\n",
    "post, opened = user.joinCommunity()"
   ]
  },
  {
   "cell_type": "code",
   "execution_count": 5,
   "metadata": {},
   "outputs": [
    {
     "data": {
      "text/plain": [
       "{'id': 'https://www.facebook.com/OfficialHU4/videos/25390133613907128/?__cft__[0]=AZXrrUMoHwF41Y4oyDS9zLmHxczpsTEUkzZQvyW-53oRrSayD35lt9zN8GTwFzf1cdEsv8qiOJMKkyQ47BxlbFXK0UUhUSlh7E0UZgF3meBRGwRArRKZS4XMS2yMnTqJCC07VoeyEfFapENCl4cQhoqjZoJBnKufJpss6EFNeoitt2vW3arrqkNIob0O8LapFOs&__tn__=%2B%3FFH-R',\n",
       " 'platform': 'facebook',\n",
       " 'origin': 'results',\n",
       " 'position': 7,\n",
       " 'type': 'post',\n",
       " 'source': 'Andrew Tate',\n",
       " 'secondary_source': 'https://www.facebook.com/OfficialHU4',\n",
       " 'likes': 65,\n",
       " 'comments': 4,\n",
       " 'shares': 7,\n",
       " 'views': '',\n",
       " 'created_at': None,\n",
       " 'title': 'Tate $200M gift to team \\nTwo choices confront you: accept defeat or strive for victory. \\nNo middle ground. … See more',\n",
       " 'description': None,\n",
       " 'media': '',\n",
       " 'url': 'https://www.facebook.com/OfficialHU4/videos/25390133613907128/?__cft__[0]=AZXrrUMoHwF41Y4oyDS9zLmHxczpsTEUkzZQvyW-53oRrSayD35lt9zN8GTwFzf1cdEsv8qiOJMKkyQ47BxlbFXK0UUhUSlh7E0UZgF3meBRGwRArRKZS4XMS2yMnTqJCC07VoeyEfFapENCl4cQhoqjZoJBnKufJpss6EFNeoitt2vW3arrqkNIob0O8LapFOs&__tn__=%2B%3FFH-R',\n",
       " 'is_ad': False}"
      ]
     },
     "execution_count": 5,
     "metadata": {},
     "output_type": "execute_result"
    }
   ],
   "source": [
    "post"
   ]
  },
  {
   "cell_type": "code",
   "execution_count": null,
   "metadata": {},
   "outputs": [],
   "source": [
    "wait(2)\n",
    "user.searchTerm('Andrew Tate')\n",
    "post, opened = user.likePost()"
   ]
  },
  {
   "cell_type": "code",
   "execution_count": null,
   "metadata": {},
   "outputs": [],
   "source": [
    "d = user.driver\n",
    "# scroll top"
   ]
  },
  {
   "cell_type": "code",
   "execution_count": 10,
   "metadata": {},
   "outputs": [],
   "source": [
    "user.scrollDown()"
   ]
  },
  {
   "cell_type": "code",
   "execution_count": 5,
   "metadata": {},
   "outputs": [],
   "source": [
    "posts = user.getPagePosts(10)"
   ]
  },
  {
   "cell_type": "code",
   "execution_count": 6,
   "metadata": {},
   "outputs": [
    {
     "data": {
      "text/plain": [
       "[{'id': 'https://www.facebook.com/groups/597384251276694/posts/1126243708390743/?comment_id=1126493951699052&__cft__[0]=AZUATJSSj98KDm0iKer5FQtrAvEdDNDpjhLFIEL4wlt7WFNQcmNuOLGmM-24gc6BwUOD3yGa4BQMIFr7tfF6BjZBGV0U4Vve9UA4UbF7b8Q0OBfTuHPD1hz2GXpcMzD3dBs72A9gPz14XaaFP41EPyhUeIaCD-dlVO7d2sw2bDxjWSvRLELGZLGziUi4APb8Z5U&__tn__=R]-R',\n",
       "  'platform': 'facebook',\n",
       "  'origin': 'home',\n",
       "  'position': 0,\n",
       "  'type': 'group_post',\n",
       "  'source': 'EPL SCORES',\n",
       "  'secondary_source': '',\n",
       "  'likes': 11,\n",
       "  'comments': 2,\n",
       "  'shares': 1,\n",
       "  'views': '',\n",
       "  'created_at': None,\n",
       "  'title': ' Rome',\n",
       "  'description': None,\n",
       "  'media': '',\n",
       "  'url': 'https://www.facebook.com/groups/597384251276694/posts/1126243708390743/?comment_id=1126493951699052&__cft__[0]=AZUATJSSj98KDm0iKer5FQtrAvEdDNDpjhLFIEL4wlt7WFNQcmNuOLGmM-24gc6BwUOD3yGa4BQMIFr7tfF6BjZBGV0U4Vve9UA4UbF7b8Q0OBfTuHPD1hz2GXpcMzD3dBs72A9gPz14XaaFP41EPyhUeIaCD-dlVO7d2sw2bDxjWSvRLELGZLGziUi4APb8Z5U&__tn__=R]-R',\n",
       "  'is_ad': False}]"
      ]
     },
     "execution_count": 6,
     "metadata": {},
     "output_type": "execute_result"
    }
   ],
   "source": []
  },
  {
   "cell_type": "code",
   "execution_count": 9,
   "metadata": {},
   "outputs": [],
   "source": []
  },
  {
   "cell_type": "code",
   "execution_count": 151,
   "metadata": {},
   "outputs": [],
   "source": [
    "def convertToObject(post, origin):\n",
    "    obj = {\n",
    "        'id': post['id'],\n",
    "        'platform': \"facebook\",\n",
    "        'origin': origin,\n",
    "        'position': post['position'],\n",
    "        'type': post['type'],\n",
    "        'source': post['source_name'],\n",
    "        'secondary_source': post['source_id'],\n",
    "        'likes': post['likes'],\n",
    "        'comments': post['comments'],\n",
    "        'shares': post['shares'],\n",
    "        'views': '',\n",
    "        'created_at': None,\n",
    "        'title': post['title'],\n",
    "        'description': None,\n",
    "        'media': '',\n",
    "        'url': post['id'],\n",
    "        'is_ad': post['is_ad']\n",
    "    }\n",
    "    return obj\n"
   ]
  },
  {
   "cell_type": "code",
   "execution_count": 155,
   "metadata": {},
   "outputs": [],
   "source": [
    "def _isGroupPost(r):\n",
    "    hrefs = r.find_elements('tag name', 'a')\n",
    "    hrefs = [href.get_attribute('href') for href in hrefs]\n",
    "    group_hrefs = [href for href in hrefs if '/groups/' in href]\n",
    "    if len(group_hrefs) > 0:\n",
    "        return True\n",
    "    return False\n",
    "\n",
    "\n",
    "def getFeedPosts(r):\n",
    "    post = dict()\n",
    "    if len(r.find_elements('tag name', 'h4')) == 0:\n",
    "        return None\n",
    "\n",
    "    source_name = r.find_elements('tag name', 'h4')[0].text\n",
    "\n",
    "    is_group_post = _isGroupPost(r)\n",
    "\n",
    "    titles = r.find_elements(By.XPATH, './/div[@data-ad-preview=\"message\"]')\n",
    "    if len(titles) > 0:\n",
    "        title = titles[0].text\n",
    "    else:\n",
    "        title = ''\n",
    "\n",
    "    likes = r.find_elements(By.XPATH, './/span[@aria-hidden=\"true\"]')[-1].text\n",
    "    if likes == '':\n",
    "        likes = -1\n",
    "    else:\n",
    "        likes = convertStringToNumber(likes)\n",
    "\n",
    "\n",
    "    roles = r.find_elements(By.XPATH, './/div[@role=\"button\"]')\n",
    "    comments = '-1'\n",
    "    shares = '-1'\n",
    "    for role in roles:\n",
    "        if 'comments' in role.text:\n",
    "            if 'more comments' in role.text:\n",
    "                continue\n",
    "            comments = role.text\n",
    "        if 'shares' in role.text:\n",
    "            shares = role.text\n",
    "\n",
    "    comments = convertStringToNumber(comments)\n",
    "    shares = convertStringToNumber(shares)\n",
    "\n",
    "    all_links = r.find_elements(By.XPATH, './/a[@role=\"link\"]')\n",
    "    is_ad = False\n",
    "    for link in all_links:\n",
    "        link = link.get_attribute('href')\n",
    "        if '/ads/about' in link:\n",
    "            is_ad = True\n",
    "\n",
    "    \n",
    "    hrefs = r.find_elements('tag name', 'a')\n",
    "    hrefs = [href.get_attribute('href') for href in hrefs]\n",
    "    hrefs = [href for href in hrefs if 'facebook.com' in href]\n",
    "    post_hrefs = [href for href in hrefs if 'posts/' in href]\n",
    "    photos_hrefs = [href for href in hrefs if 'photo' in href or 'video' in href]\n",
    "\n",
    "    if len(post_hrefs) == 0:\n",
    "        if len(photos_hrefs) > 0:\n",
    "            href = photos_hrefs[0]\n",
    "        else:\n",
    "            href = ''\n",
    "    else:\n",
    "        href = post_hrefs[0]\n",
    "\n",
    "    # ---------------------------------------------\n",
    "\n",
    "    post['id'] = href[:10]\n",
    "    post['source_name'] = source_name[:10]\n",
    "    post['is_group_post'] = is_group_post\n",
    "    post['title'] = title[:5]\n",
    "    post['likes'] = likes\n",
    "    post['comments'] = comments\n",
    "    post['shares'] = shares\n",
    "    post['is_ad'] = is_ad\n",
    "    post['source_id'] = ''\n",
    "    post['description'] = ''\n",
    "    post['created_at'] = ''\n",
    "    post['media'] = ''\n",
    "    post['type'] = 'post'\n",
    "    if is_group_post:\n",
    "        post['type'] = 'group_post'\n",
    "\n",
    "    return post\n"
   ]
  },
  {
   "cell_type": "code",
   "execution_count": 165,
   "metadata": {},
   "outputs": [
    {
     "name": "stdout",
     "output_type": "stream",
     "text": [
      "0 HELLO! \n",
      "1 Showbiz & \n",
      "2 𝑺𝒆𝒍𝒆𝒏𝒂 𝑮𝒐𝒎\n",
      "3 Waterfall \n",
      "4 GG\n",
      "  · Fol\n",
      "5 Chelsea Fa\n",
      "6 GT-R Force\n",
      "7 EPL Fixtur\n",
      "8 DC PRIME T\n",
      "9 HELLO! \n",
      "10 Amos Gibso\n",
      "11 Ticklefitz\n",
      "12 American g\n",
      "13 \n",
      "14 \n",
      "15 \n",
      "16 \n",
      "17 \n"
     ]
    }
   ],
   "source": [
    "driver = user.driver\n",
    "page = driver.find_element(By.XPATH, '//div[@role=\"feed\"]')\n",
    "results = page.find_elements(By.XPATH, './/div[@role=\"article\"]')\n",
    "posts = []\n",
    "for r in results:\n",
    "    p = getFeedPosts(r)\n",
    "    if p == None:\n",
    "        continue\n",
    "    p['position'] = len(posts)\n",
    "    print(len(posts), p['source_name'])\n",
    "    p = convertToObject(p, 'home')\n",
    "    posts.append(p)\n",
    "    if len(posts)%4 == 0:\n",
    "        # scroll down one page\n",
    "        driver.execute_script(\"window.scrollTo(0, document.body.scrollHeight/3);\")\n",
    "        "
   ]
  },
  {
   "cell_type": "code",
   "execution_count": 125,
   "metadata": {},
   "outputs": [
    {
     "data": {
      "text/plain": [
       "[]"
      ]
     },
     "execution_count": 125,
     "metadata": {},
     "output_type": "execute_result"
    }
   ],
   "source": [
    "posts"
   ]
  },
  {
   "cell_type": "markdown",
   "metadata": {},
   "source": [
    "# Join Group"
   ]
  },
  {
   "cell_type": "code",
   "execution_count": 50,
   "metadata": {},
   "outputs": [],
   "source": [
    "from utils.util import convertStringToNumber\n",
    "\n",
    "def isJoinable(group):\n",
    "    lines = group.text\n",
    "\n",
    "    if 'Public' not in lines:\n",
    "        print('Not public - Continue')\n",
    "        print(lines)\n",
    "        return False\n",
    "    button = group.find_elements(By.XPATH, './/span[text()=\"Join\"]')\n",
    "    if len(button) == 0:\n",
    "        print('Already joined - Continue')\n",
    "        return False\n",
    "    \n",
    "    return True\n",
    "\n",
    "def joinGroup(user):\n",
    "    wait(1)\n",
    "    communities = user.driver.find_elements(By.XPATH, '//span[text()=\"Groups\"]')\n",
    "\n",
    "    wait(2)\n",
    "    for c in communities:\n",
    "        try:\n",
    "            c.click()\n",
    "        except:\n",
    "            pass\n",
    "        wait(1)\n",
    "\n",
    "    print('Clicked group putton')\n",
    "    group = _joinFromResults(user)\n",
    "    return group\n",
    "\n",
    "def _joinFromResults(user):\n",
    "\n",
    "    results = user.driver.find_elements(By.XPATH, \"//div[@style='border-radius: max(0px, min(8px, (100vw - 4px - 100%) * 9999)) / 8px;']\")       \n",
    "    print(f'RESULTS: {len(results)}')\n",
    "\n",
    "    i = 0\n",
    "    for result in results: \n",
    "        i += 1\n",
    "\n",
    "        lines = result.text.split('\\n')\n",
    "\n",
    "        info = result.find_element(By.XPATH, './/a[@role=\"presentation\"]')\n",
    "        name = info.text\n",
    "        group_id = info.get_attribute('href')\n",
    "\n",
    "        members = lines[1].split('·')[1]\n",
    "        members = members.replace(' members', '')\n",
    "        members = convertStringToNumber(members)\n",
    "\n",
    "        description = lines[2]\n",
    "\n",
    "        group_info = {'name': name, 'group_id': group_id, 'members': members, 'description': description, 'position': i}\n",
    "\n",
    "        if not isJoinable(result):\n",
    "            continue\n",
    "\n",
    "        join_button = result.find_element(By.XPATH, './/span[text()=\"Join\"]')\n",
    "        join_button.click()\n",
    "\n",
    "        print('Joined')\n",
    "        group_info['Joined'] = True\n",
    "        return group_info\n",
    "\n",
    "    return None\n",
    "\n"
   ]
  },
  {
   "cell_type": "code",
   "execution_count": 51,
   "metadata": {},
   "outputs": [
    {
     "name": "stdout",
     "output_type": "stream",
     "text": [
      "RESULTS: 27\n",
      "Already joined - Continue\n",
      "Joined\n"
     ]
    },
    {
     "data": {
      "text/plain": [
       "{'name': 'Andrew Tate',\n",
       " 'group_id': 'https://www.facebook.com/groups/469803385294669/',\n",
       " 'members': 119000,\n",
       " 'description': 'This group is about the Top G Andrew Tate. Post only andrew tate related stuffs.',\n",
       " 'position': 2,\n",
       " 'Joined': True}"
      ]
     },
     "execution_count": 51,
     "metadata": {},
     "output_type": "execute_result"
    }
   ],
   "source": [
    "_joinFromResults(user)"
   ]
  },
  {
   "cell_type": "code",
   "execution_count": 34,
   "metadata": {},
   "outputs": [],
   "source": [
    "# wait(2)\n",
    "# user.searchTerm('Andrew Tate')"
   ]
  },
  {
   "cell_type": "code",
   "execution_count": null,
   "metadata": {},
   "outputs": [],
   "source": [
    "joinGroup(user)"
   ]
  },
  {
   "cell_type": "markdown",
   "metadata": {},
   "source": [
    "# Follow User"
   ]
  },
  {
   "cell_type": "code",
   "execution_count": 32,
   "metadata": {},
   "outputs": [
    {
     "name": "stdout",
     "output_type": "stream",
     "text": [
      "\u001b[32m_joinNthUser:\u001b[37m\t [{'name': 'Andrew Tate', 'action': '20+', 'button': <selenium.webdriver.remote.webelement.WebElement (session=\"c4e0237e3a65d9d251f3760b849972c2\", element=\"D52A73BEF6C5229FFF6CF50144E41C61_element_201\")>, 'id': 'https://www.facebook.com/Cobratate.FB'}, {'name': 'Tate', 'action': 'Follow', 'button': <selenium.webdriver.remote.webelement.WebElement (session=\"c4e0237e3a65d9d251f3760b849972c2\", element=\"D52A73BEF6C5229FFF6CF50144E41C61_element_9124\")>, 'id': 'https://www.facebook.com/tategallery'}, {'name': 'Andrew Tate', 'action': 'Follow', 'button': <selenium.webdriver.remote.webelement.WebElement (session=\"c4e0237e3a65d9d251f3760b849972c2\", element=\"D52A73BEF6C5229FFF6CF50144E41C61_element_9125\")>, 'id': 'https://www.facebook.com/AndrewTateKLTV'}, {'name': 'Andrew Tate', 'action': 'Follow', 'button': <selenium.webdriver.remote.webelement.WebElement (session=\"c4e0237e3a65d9d251f3760b849972c2\", element=\"D52A73BEF6C5229FFF6CF50144E41C61_element_9126\")>, 'id': 'https://www.facebook.com/therealAndrewTate01'}, {'name': 'Andrew Tate', 'action': 'Follow', 'button': <selenium.webdriver.remote.webelement.WebElement (session=\"c4e0237e3a65d9d251f3760b849972c2\", element=\"D52A73BEF6C5229FFF6CF50144E41C61_element_9127\")>, 'id': 'https://www.facebook.com/profile.php?id=100094389606282'}, {'name': 'Andrew E. Worldwide', 'action': 'Follow', 'button': <selenium.webdriver.remote.webelement.WebElement (session=\"c4e0237e3a65d9d251f3760b849972c2\", element=\"D52A73BEF6C5229FFF6CF50144E41C61_element_9128\")>, 'id': 'https://www.facebook.com/andreweworldwide'}, {'name': 'Andrew Tate', 'action': 'Follow', 'button': <selenium.webdriver.remote.webelement.WebElement (session=\"c4e0237e3a65d9d251f3760b849972c2\", element=\"D52A73BEF6C5229FFF6CF50144E41C61_element_9129\")>, 'id': 'https://www.facebook.com/profile.php?id=61551614216216'}, {'name': 'Andrew Tate', 'action': 'Follow', 'button': <selenium.webdriver.remote.webelement.WebElement (session=\"c4e0237e3a65d9d251f3760b849972c2\", element=\"D52A73BEF6C5229FFF6CF50144E41C61_element_9130\")>, 'id': 'https://www.facebook.com/profile.php?id=100092188571146'}, {'name': 'Andrew Tate', 'action': 'Follow', 'button': <selenium.webdriver.remote.webelement.WebElement (session=\"c4e0237e3a65d9d251f3760b849972c2\", element=\"D52A73BEF6C5229FFF6CF50144E41C61_element_9131\")>, 'id': 'https://www.facebook.com/profile.php?id=100090648458619'}, {'name': 'Andrew Tate', 'action': 'Follow', 'button': <selenium.webdriver.remote.webelement.WebElement (session=\"c4e0237e3a65d9d251f3760b849972c2\", element=\"D52A73BEF6C5229FFF6CF50144E41C61_element_9132\")>, 'id': 'https://www.facebook.com/CobrAndrewTate'}, {'name': 'Andrew Tate', 'action': 'Follow', 'button': <selenium.webdriver.remote.webelement.WebElement (session=\"c4e0237e3a65d9d251f3760b849972c2\", element=\"D52A73BEF6C5229FFF6CF50144E41C61_element_9133\")>, 'id': 'https://www.facebook.com/profile.php?id=100068380119701'}, {'name': 'Andrew tate Matrix', 'action': 'Follow', 'button': <selenium.webdriver.remote.webelement.WebElement (session=\"c4e0237e3a65d9d251f3760b849972c2\", element=\"D52A73BEF6C5229FFF6CF50144E41C61_element_9134\")>, 'id': 'https://www.facebook.com/profile.php?id=100092503681463'}, {'name': 'Andrew Tate', 'action': 'Follow', 'button': <selenium.webdriver.remote.webelement.WebElement (session=\"c4e0237e3a65d9d251f3760b849972c2\", element=\"D52A73BEF6C5229FFF6CF50144E41C61_element_9135\")>, 'id': 'https://www.facebook.com/profile.php?id=100086151270651'}, {'name': 'Andrew Tate', 'action': 'Follow', 'button': <selenium.webdriver.remote.webelement.WebElement (session=\"c4e0237e3a65d9d251f3760b849972c2\", element=\"D52A73BEF6C5229FFF6CF50144E41C61_element_9136\")>, 'id': 'https://www.facebook.com/profile.php?id=61551491536347'}, {'name': 'Andrew Tate', 'action': 'Follow', 'button': <selenium.webdriver.remote.webelement.WebElement (session=\"c4e0237e3a65d9d251f3760b849972c2\", element=\"D52A73BEF6C5229FFF6CF50144E41C61_element_9137\")>, 'id': 'https://www.facebook.com/profile.php?id=61550350840756'}, {'name': 'Andrew tate', 'action': 'Follow', 'button': <selenium.webdriver.remote.webelement.WebElement (session=\"c4e0237e3a65d9d251f3760b849972c2\", element=\"D52A73BEF6C5229FFF6CF50144E41C61_element_9138\")>, 'id': 'https://www.facebook.com/profile.php?id=100086282387286'}, {'name': 'Andrew tate', 'action': 'Follow', 'button': <selenium.webdriver.remote.webelement.WebElement (session=\"c4e0237e3a65d9d251f3760b849972c2\", element=\"D52A73BEF6C5229FFF6CF50144E41C61_element_9139\")>, 'id': 'https://www.facebook.com/profile.php?id=61551087308286'}, {'name': 'Andrew Tate', 'action': 'Follow', 'button': <selenium.webdriver.remote.webelement.WebElement (session=\"c4e0237e3a65d9d251f3760b849972c2\", element=\"D52A73BEF6C5229FFF6CF50144E41C61_element_9140\")>, 'id': 'https://www.facebook.com/profile.php?id=61550607516230'}, {'name': 'AndrewAndrew', 'action': 'Follow', 'button': <selenium.webdriver.remote.webelement.WebElement (session=\"c4e0237e3a65d9d251f3760b849972c2\", element=\"D52A73BEF6C5229FFF6CF50144E41C61_element_9141\")>, 'id': 'https://www.facebook.com/AndrewAndrew'}, {'name': 'Andrew Tate', 'action': 'Follow', 'button': <selenium.webdriver.remote.webelement.WebElement (session=\"c4e0237e3a65d9d251f3760b849972c2\", element=\"D52A73BEF6C5229FFF6CF50144E41C61_element_9142\")>, 'id': 'https://www.facebook.com/profile.php?id=100092367009598'}, {'name': 'Andrew Tate', 'action': 'Follow', 'button': <selenium.webdriver.remote.webelement.WebElement (session=\"c4e0237e3a65d9d251f3760b849972c2\", element=\"D52A73BEF6C5229FFF6CF50144E41C61_element_9143\")>, 'id': 'https://www.facebook.com/AndrewTateRacing'}, {'name': 'Andrew Tate', 'action': 'Follow', 'button': <selenium.webdriver.remote.webelement.WebElement (session=\"c4e0237e3a65d9d251f3760b849972c2\", element=\"D52A73BEF6C5229FFF6CF50144E41C61_element_9144\")>, 'id': 'https://www.facebook.com/profile.php?id=100094361417711'}, {'name': 'Andrew Tate', 'action': 'Follow', 'button': <selenium.webdriver.remote.webelement.WebElement (session=\"c4e0237e3a65d9d251f3760b849972c2\", element=\"D52A73BEF6C5229FFF6CF50144E41C61_element_9145\")>, 'id': 'https://www.facebook.com/profile.php?id=61554266287190'}, {'name': 'Andrew Tate', 'action': 'Follow', 'button': <selenium.webdriver.remote.webelement.WebElement (session=\"c4e0237e3a65d9d251f3760b849972c2\", element=\"D52A73BEF6C5229FFF6CF50144E41C61_element_9146\")>, 'id': 'https://www.facebook.com/profile.php?id=61552834701452'}, {'name': 'Official_Andrew_Tate (The Real World)', 'action': 'Follow', 'button': <selenium.webdriver.remote.webelement.WebElement (session=\"c4e0237e3a65d9d251f3760b849972c2\", element=\"D52A73BEF6C5229FFF6CF50144E41C61_element_9147\")>, 'id': 'https://www.facebook.com/profile.php?id=100094342610526'}, {'name': 'Andrew Tate', 'action': 'Follow', 'button': <selenium.webdriver.remote.webelement.WebElement (session=\"c4e0237e3a65d9d251f3760b849972c2\", element=\"D52A73BEF6C5229FFF6CF50144E41C61_element_9148\")>, 'id': 'https://www.facebook.com/profile.php?id=100095099025691'}, {'name': 'Andrew Tate', 'action': 'Follow', 'button': <selenium.webdriver.remote.webelement.WebElement (session=\"c4e0237e3a65d9d251f3760b849972c2\", element=\"D52A73BEF6C5229FFF6CF50144E41C61_element_9149\")>, 'id': 'https://www.facebook.com/profile.php?id=100092196319250'}]\n",
      "\u001b[32m_joinNthUser:\u001b[37m\t 20+\n",
      "\u001b[32m_joinNthUser:\u001b[37m\t Follow\n"
     ]
    },
    {
     "data": {
      "text/plain": [
       "{'name': 'Tate', 'id': 'https://www.facebook.com/tategallery'}"
      ]
     },
     "execution_count": 32,
     "metadata": {},
     "output_type": "execute_result"
    }
   ],
   "source": [
    "followUser(user)"
   ]
  },
  {
   "cell_type": "code",
   "execution_count": 3,
   "metadata": {},
   "outputs": [
    {
     "name": "stdout",
     "output_type": "stream",
     "text": [
      "\u001b[32m_joinNthUser:\u001b[37m\t [{'name': 'Ben Shapiro', 'action': '20+', 'button': <selenium.webdriver.remote.webelement.WebElement (session=\"b97aa6c02ee106e9974d59a2edab4ca1\", element=\"08E120E56135DF5A1B8C1A1275651E70_element_146\")>, 'id': 'https://www.facebook.com/officialbenshapiro'}, {'name': 'Ben Shapiro Fans', 'action': 'Follow', 'button': <selenium.webdriver.remote.webelement.WebElement (session=\"b97aa6c02ee106e9974d59a2edab4ca1\", element=\"08E120E56135DF5A1B8C1A1275651E70_element_211\")>, 'id': 'https://www.facebook.com/profile.php?id=61552229043004'}, {'name': '𝑩𝑬𝑵 𝑺𝑯𝑨𝑷𝑰𝑹𝑶', 'action': 'Follow', 'button': <selenium.webdriver.remote.webelement.WebElement (session=\"b97aa6c02ee106e9974d59a2edab4ca1\", element=\"08E120E56135DF5A1B8C1A1275651E70_element_212\")>, 'id': 'https://www.facebook.com/profile.php?id=100092243448272'}, {'name': 'Ben Shapiro', 'action': 'Follow', 'button': <selenium.webdriver.remote.webelement.WebElement (session=\"b97aa6c02ee106e9974d59a2edab4ca1\", element=\"08E120E56135DF5A1B8C1A1275651E70_element_213\")>, 'id': 'https://www.facebook.com/profile.php?id=61555649383051'}, {'name': 'Ben Shapiro', 'action': 'Follow', 'button': <selenium.webdriver.remote.webelement.WebElement (session=\"b97aa6c02ee106e9974d59a2edab4ca1\", element=\"08E120E56135DF5A1B8C1A1275651E70_element_214\")>, 'id': 'https://www.facebook.com/profile.php?id=61553871900809'}, {'name': 'Ben Shapiro', 'action': 'Follow', 'button': <selenium.webdriver.remote.webelement.WebElement (session=\"b97aa6c02ee106e9974d59a2edab4ca1\", element=\"08E120E56135DF5A1B8C1A1275651E70_element_215\")>, 'id': 'https://www.facebook.com/profile.php?id=61555630750348'}, {'name': 'Ben _Shapiro.', 'action': 'Follow', 'button': <selenium.webdriver.remote.webelement.WebElement (session=\"b97aa6c02ee106e9974d59a2edab4ca1\", element=\"08E120E56135DF5A1B8C1A1275651E70_element_216\")>, 'id': 'https://www.facebook.com/profile.php?id=61551874785407'}, {'name': 'Ben Shapiro', 'action': 'Follow', 'button': <selenium.webdriver.remote.webelement.WebElement (session=\"b97aa6c02ee106e9974d59a2edab4ca1\", element=\"08E120E56135DF5A1B8C1A1275651E70_element_217\")>, 'id': 'https://www.facebook.com/pages/Ben-Shapiro/135100363205195'}, {'name': 'Ben shapiro.', 'action': 'Like', 'button': <selenium.webdriver.remote.webelement.WebElement (session=\"b97aa6c02ee106e9974d59a2edab4ca1\", element=\"08E120E56135DF5A1B8C1A1275651E70_element_218\")>, 'id': 'https://www.facebook.com/profile.php?id=100079469448250'}, {'name': 'Ben Shapiro', 'action': 'Follow', 'button': <selenium.webdriver.remote.webelement.WebElement (session=\"b97aa6c02ee106e9974d59a2edab4ca1\", element=\"08E120E56135DF5A1B8C1A1275651E70_element_219\")>, 'id': 'https://www.facebook.com/profile.php?id=61555737964663'}, {'name': 'Ben Shapiro', 'action': 'Follow', 'button': <selenium.webdriver.remote.webelement.WebElement (session=\"b97aa6c02ee106e9974d59a2edab4ca1\", element=\"08E120E56135DF5A1B8C1A1275651E70_element_220\")>, 'id': 'https://www.facebook.com/profile.php?id=61555933585477'}, {'name': 'Ben Shapiro', 'action': 'Follow', 'button': <selenium.webdriver.remote.webelement.WebElement (session=\"b97aa6c02ee106e9974d59a2edab4ca1\", element=\"08E120E56135DF5A1B8C1A1275651E70_element_221\")>, 'id': 'https://www.facebook.com/profile.php?id=61554222765590'}, {'name': 'Ben Shapiro', 'action': 'Follow', 'button': <selenium.webdriver.remote.webelement.WebElement (session=\"b97aa6c02ee106e9974d59a2edab4ca1\", element=\"08E120E56135DF5A1B8C1A1275651E70_element_222\")>, 'id': 'https://www.facebook.com/profile.php?id=100094693675983'}, {'name': 'Ben Shapiro', 'action': 'Follow', 'button': <selenium.webdriver.remote.webelement.WebElement (session=\"b97aa6c02ee106e9974d59a2edab4ca1\", element=\"08E120E56135DF5A1B8C1A1275651E70_element_223\")>, 'id': 'https://www.facebook.com/profile.php?id=100094019316760'}, {'name': 'Ben Shapiro', 'action': 'Follow', 'button': <selenium.webdriver.remote.webelement.WebElement (session=\"b97aa6c02ee106e9974d59a2edab4ca1\", element=\"08E120E56135DF5A1B8C1A1275651E70_element_224\")>, 'id': 'https://www.facebook.com/profile.php?id=61551528620287'}, {'name': 'Ben Shapiro', 'action': 'Follow', 'button': <selenium.webdriver.remote.webelement.WebElement (session=\"b97aa6c02ee106e9974d59a2edab4ca1\", element=\"08E120E56135DF5A1B8C1A1275651E70_element_225\")>, 'id': 'https://www.facebook.com/profile.php?id=61553396105004'}, {'name': 'Ben Shapiro', 'action': 'Follow', 'button': <selenium.webdriver.remote.webelement.WebElement (session=\"b97aa6c02ee106e9974d59a2edab4ca1\", element=\"08E120E56135DF5A1B8C1A1275651E70_element_226\")>, 'id': 'https://www.facebook.com/profile.php?id=61554211727083'}, {'name': 'Ben Shapiro', 'action': 'Follow', 'button': <selenium.webdriver.remote.webelement.WebElement (session=\"b97aa6c02ee106e9974d59a2edab4ca1\", element=\"08E120E56135DF5A1B8C1A1275651E70_element_227\")>, 'id': 'https://www.facebook.com/profile.php?id=61553999549363'}, {'name': 'Ben Shapiro', 'action': 'Follow', 'button': <selenium.webdriver.remote.webelement.WebElement (session=\"b97aa6c02ee106e9974d59a2edab4ca1\", element=\"08E120E56135DF5A1B8C1A1275651E70_element_228\")>, 'id': 'https://www.facebook.com/profile.php?id=61554131936905'}, {'name': 'Ben Shapiro', 'action': 'Follow', 'button': <selenium.webdriver.remote.webelement.WebElement (session=\"b97aa6c02ee106e9974d59a2edab4ca1\", element=\"08E120E56135DF5A1B8C1A1275651E70_element_229\")>, 'id': 'https://www.facebook.com/profile.php?id=61553737370230'}, {'name': 'Ben Shapiro', 'action': 'Follow', 'button': <selenium.webdriver.remote.webelement.WebElement (session=\"b97aa6c02ee106e9974d59a2edab4ca1\", element=\"08E120E56135DF5A1B8C1A1275651E70_element_230\")>, 'id': 'https://www.facebook.com/profile.php?id=61550935900634'}, {'name': 'Ben Shapiro', 'action': 'Follow', 'button': <selenium.webdriver.remote.webelement.WebElement (session=\"b97aa6c02ee106e9974d59a2edab4ca1\", element=\"08E120E56135DF5A1B8C1A1275651E70_element_231\")>, 'id': 'https://www.facebook.com/profile.php?id=61552336585531'}, {'name': 'Ben Shapiro', 'action': 'Follow', 'button': <selenium.webdriver.remote.webelement.WebElement (session=\"b97aa6c02ee106e9974d59a2edab4ca1\", element=\"08E120E56135DF5A1B8C1A1275651E70_element_232\")>, 'id': 'https://www.facebook.com/profile.php?id=100094359240283'}, {'name': '𝘉𝘦𝘯 𝘚𝘩𝘢𝘱𝘪𝘳𝘰', 'action': 'Follow', 'button': <selenium.webdriver.remote.webelement.WebElement (session=\"b97aa6c02ee106e9974d59a2edab4ca1\", element=\"08E120E56135DF5A1B8C1A1275651E70_element_233\")>, 'id': 'https://www.facebook.com/profile.php?id=100070112032659'}, {'name': 'Ben shapiro.', 'action': 'Follow', 'button': <selenium.webdriver.remote.webelement.WebElement (session=\"b97aa6c02ee106e9974d59a2edab4ca1\", element=\"08E120E56135DF5A1B8C1A1275651E70_element_234\")>, 'id': 'https://www.facebook.com/profile.php?id=100080340390268'}, {'name': 'Ben shapiro', 'action': 'Follow', 'button': <selenium.webdriver.remote.webelement.WebElement (session=\"b97aa6c02ee106e9974d59a2edab4ca1\", element=\"08E120E56135DF5A1B8C1A1275651E70_element_235\")>, 'id': 'https://www.facebook.com/profile.php?id=100069941184277'}, {'name': 'Ben Shapiro', 'action': 'Follow', 'button': <selenium.webdriver.remote.webelement.WebElement (session=\"b97aa6c02ee106e9974d59a2edab4ca1\", element=\"08E120E56135DF5A1B8C1A1275651E70_element_236\")>, 'id': 'https://www.facebook.com/profile.php?id=100092046638049'}]\n",
      "\u001b[32m_joinNthUser:\u001b[37m\t 20+\n",
      "\u001b[32m_joinNthUser:\u001b[37m\t Follow\n"
     ]
    }
   ],
   "source": [
    "wait(1)\n",
    "user.searchTerm('Ben Shapiro')\n",
    "wait(4)\n",
    "post = user.followUser()"
   ]
  },
  {
   "cell_type": "code",
   "execution_count": 20,
   "metadata": {},
   "outputs": [],
   "source": [
    "from utils.log import debug\n",
    "\n",
    "def follow(user):\n",
    "    page = user.driver.find_element(By.XPATH, '//div[@aria-label=\"Search results\"]')\n",
    "    results = page.find_elements(By.XPATH, \".//div[@style='border-radius: max(0px, min(8px, (100vw - 4px - 100%) * 9999)) / 8px;']\")       \n",
    "\n",
    "    for r in results:\n",
    "        title = r.find_elements(By.XPATH, './/a[@role=\"presentation\"]')\n",
    "        title_text = title[0].text\n",
    "        possible_buttons = r.find_elements(By.XPATH, './/div[@role=\"button\"]')\n",
    "\n",
    "        button = None\n",
    "        i = 0\n",
    "        for b in possible_buttons:\n",
    "            print(i, b.text)\n",
    "            i += 1\n",
    "            if b.text == 'Follow':\n",
    "                button = b\n",
    "\n",
    "        for b in title:\n",
    "            print('title', i, b.text)\n",
    "            i += 1\n",
    "        \n",
    "        # if button == None:\n",
    "        #     \"NO BUTTON FOUND\"\n",
    "        #     continue\n",
    "\n",
    "        # url = title[0].get_attribute('href')\n",
    "\n",
    "        # button.click()\n",
    "        # page = dict()\n",
    "        # page['name'] = title_text\n",
    "        # page['url'] = url\n",
    "\n",
    "        # debug(f\"Followed {page['name']}\")\n",
    "        # return page\n",
    "    return None\n",
    "\n",
    "\n",
    "# urls = [r.get_attribute('href') for r in results]\n",
    "# possible_buttons = page.find_elements(By.XPATH, '//div[@role=\"button\"]')\n",
    "# buttons = []\n",
    "\n",
    "# for b in possible_buttons:\n",
    "#     if len(b.text) > 2:\n",
    "#         buttons.append(b)\n",
    "\n",
    "# people = []\n",
    "# for i in range(4):\n",
    "#     p = {'name':results[i].text, 'action': buttons[i].text, 'button': buttons[i], 'id': urls[i]}\n",
    "#     print(p['name'])\n",
    "#     people.append(p)\n",
    "\n",
    "# for page in people:\n",
    "#     debug(f'{page[\"name\"]}')\n",
    "#     if page['action'] == 'Follow':\n",
    "#         post = {'name': p['name'], 'id': p['id']}\n",
    "#         debug('Followed')\n",
    "#         input()\n",
    "#         p['button'].click()\n",
    "#         break"
   ]
  },
  {
   "cell_type": "code",
   "execution_count": 21,
   "metadata": {},
   "outputs": [
    {
     "name": "stdout",
     "output_type": "stream",
     "text": [
      "0 \n",
      "title 1 Ben Shapiro\n",
      "0 Follow\n",
      "title 1 𝑩𝑬𝑵 𝑺𝑯𝑨𝑷𝑰𝑹𝑶\n",
      "0 Follow\n",
      "title 1 Ben shapiro.\n",
      "0 Follow\n",
      "title 1 Ben Shapiro Fans\n",
      "0 Follow\n",
      "title 1 Ben Shapiro\n",
      "0 Follow\n",
      "title 1 Ben Shapiro\n",
      "0 Follow\n",
      "title 1 Ben Shapiro\n",
      "0 Follow\n",
      "title 1 Ben shapiro.\n",
      "0 Like\n",
      "title 1 Ben Shapiro\n",
      "0 Follow\n",
      "title 1 Ben _Shapiro.\n",
      "title 0 𝘉𝘦𝘯 𝘚𝘩𝘢𝘱𝘪𝘳𝘰\n",
      "0 Follow\n",
      "title 1 Ben Shapiro\n",
      "0 Follow\n",
      "title 1 Ben Shapiro\n",
      "0 Follow\n",
      "title 1 Ben Shapiro Memes\n",
      "0 Follow\n",
      "title 1 Black Ben Shapiro\n",
      "0 Follow\n",
      "title 1 Ben Shapiro\n",
      "0 Follow\n",
      "title 1 Ben Shapiro\n",
      "0 Follow\n",
      "title 1 Ben Shapiro\n",
      "0 Follow\n",
      "title 1 Ben Shapiro\n",
      "0 Follow\n",
      "title 1 Ben Shapiro\n",
      "0 Follow\n",
      "title 1 Ben Shapiro\n",
      "0 Follow\n",
      "title 1 Ben Shapiro\n",
      "0 Follow\n",
      "title 1 Ben Shapiro\n",
      "0 Follow\n",
      "title 1 Ben Shapiro\n",
      "0 Follow\n",
      "title 1 Ben Shapiro\n",
      "0 Follow\n",
      "title 1 Ben Shapiro\n",
      "0 Follow\n",
      "title 1 Ben Shapiro\n"
     ]
    }
   ],
   "source": [
    "follow(user)"
   ]
  },
  {
   "cell_type": "code",
   "execution_count": 19,
   "metadata": {},
   "outputs": [
    {
     "name": "stdout",
     "output_type": "stream",
     "text": [
      "0 \n",
      "title 1 Ben Shapiro\n"
     ]
    }
   ],
   "source": [
    "follow(user)"
   ]
  },
  {
   "cell_type": "code",
   "execution_count": null,
   "metadata": {},
   "outputs": [],
   "source": []
  }
 ],
 "metadata": {
  "kernelspec": {
   "display_name": "Python 3",
   "language": "python",
   "name": "python3"
  },
  "language_info": {
   "codemirror_mode": {
    "name": "ipython",
    "version": 3
   },
   "file_extension": ".py",
   "mimetype": "text/x-python",
   "name": "python",
   "nbconvert_exporter": "python",
   "pygments_lexer": "ipython3",
   "version": "3.11.7"
  }
 },
 "nbformat": 4,
 "nbformat_minor": 2
}

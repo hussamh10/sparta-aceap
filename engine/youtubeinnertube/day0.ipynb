{
 "cells": [
  {
   "cell_type": "code",
   "execution_count": 7,
   "metadata": {},
   "outputs": [
    {
     "name": "stdout",
     "output_type": "stream",
     "text": [
      "{'treatments': [{'action': 'watch', 'topic': 'video'}, {'action': 'like', 'topic': 'video'}], 'replication': 3, 'days': 2, 'experiment_id': 'ytit', 'platforms': ['YouTube'], 'email_template': 'spartan', 'database': 'experiment.db', 'path': 'C:\\\\Users\\\\hussa\\\\Desktop\\\\sparta-aceap\\\\engine\\\\youtubeinnertube\\\\data'}\n"
     ]
    }
   ],
   "source": [
    "import json\n",
    "from experiment.Experiment import Experiment\n",
    "from account_creation.GoogleWorkspace import GoogleWorkspace\n",
    "from utils import shuffleIP as IP\n",
    "from utils.log import debug, error, logging\n",
    "from utils.util import wait, bigWait\n",
    "\n",
    "config = json.load(open('config.json', 'r'))\n",
    "platforms = config['platforms']\n",
    "print(config)"
   ]
  },
  {
   "cell_type": "code",
   "execution_count": 9,
   "metadata": {},
   "outputs": [
    {
     "name": "stdout",
     "output_type": "stream",
     "text": [
      "\u001b[33mneedUsers:\u001b[30m\t Users required: 6\n",
      "\u001b[32mneedUsers:\u001b[31m\t Not enough users created: [{'fname': 'Misty', 'lname': 'Cecere', 'email': 'spartan0@spartaaceap.com', 'id': 'spartan0', 'exp': 'ytit', 'google_signin': None, 'chrome_signin': 1, 'chrome_session': 'spartan0', 'reddit': None, 'twitter': None, 'youtube': None, 'tiktok': None, 'facebook': None}]\n",
      "\u001b[33mcreateUsers:\u001b[30m\t Users uploaded to Google Admin already\n",
      "\u001b[33misChromeSignedIn:\u001b[30m\t 1.0\n",
      "\u001b[33mchromeSignInAll:\u001b[30m\t ALREADY SIGNED IN: {'fname': 'Misty', 'lname': 'Cecere', 'email': 'spartan0@spartaaceap.com', 'id': 'spartan0', 'exp': 'ytit', 'google_signin': None, 'chrome_signin': 1.0, 'chrome_session': 'spartan0', 'reddit': None, 'twitter': None, 'youtube': None, 'tiktok': None, 'facebook': None}\n",
      "\u001b[33misChromeSignedIn:\u001b[30m\t None\n",
      "\u001b[33mchromeSignInAll:\u001b[30m\t SIGNING IN: {'fname': 'Jeanette', 'lname': 'Mccartney', 'email': 'spartan1@spartaaceap.com', 'id': 'spartan1', 'exp': 'ytit', 'google_signin': None, 'chrome_signin': nan, 'chrome_session': None, 'reddit': None, 'twitter': None, 'youtube': None, 'tiktok': None, 'facebook': None}\n",
      "\u001b[33mgetNewIP:\u001b[30m\t Getting New IP\n"
     ]
    }
   ],
   "source": [
    "GW = GoogleWorkspace()\n",
    "if GW.needUsers(config):\n",
    "    GW.createUsers(config)"
   ]
  },
  {
   "cell_type": "code",
   "execution_count": null,
   "metadata": {},
   "outputs": [],
   "source": [
    "experiment_subjects = dict()\n",
    "for platform in platforms:\n",
    "    experiment = Experiment('config.json', platform)\n",
    "    experiment.initiate()\n",
    "    experiment_subjects[platform] = experiment.get_subjects()\n",
    "\n",
    "subjects = dict()\n",
    "for platform in platforms:\n",
    "    for subject in experiment_subjects[platform]:\n",
    "        if subject.id not in subjects:\n",
    "            subjects[subject.id] = dict()\n",
    "        subjects[subject.id][platform] = subject"
   ]
  },
  {
   "cell_type": "markdown",
   "metadata": {},
   "source": [
    "# Initate"
   ]
  },
  {
   "cell_type": "code",
   "execution_count": null,
   "metadata": {},
   "outputs": [],
   "source": [
    "subject_names = list(subjects.keys())\n",
    "for subject_name in subject_names[2:]:\n",
    "    IP.shuffle(subject_name)\n",
    "    chrome = subjects[subject_name]['YouTube']\n",
    "    signed = chrome.checkChromeSignin()\n",
    "    debug(f'Chrome signed in: {signed}')\n",
    "    if not signed:\n",
    "        error(f'Chrome not signed in: {subject_name}')\n",
    "        chrome.chromeSignIn()\n",
    "\n",
    "    for platform in platforms:\n",
    "        logging(f'Platform: {platform}, Subject: {subject_name}')\n",
    "        subject = subjects[subject_name][platform]\n",
    "        try:\n",
    "            logging(f'\\t Signing in {subject_name} on {platform}')\n",
    "            signed = subject.platformSignIn()\n",
    "        except Exception as e:\n",
    "            error(f'\\t Error signing in {subject_name} on {platform}')\n",
    "            error(f'\\t {e}')\n",
    "        debug(f'Signed in {subject_name} on {platform}')\n",
    "    bigWait(4)"
   ]
  },
  {
   "cell_type": "code",
   "execution_count": null,
   "metadata": {},
   "outputs": [],
   "source": [
    "subject_names = list(subjects.keys())\n",
    "for subject_name in subject_names:\n",
    "    IP.shuffle(subject_name)\n",
    "    for platform in platforms:\n",
    "        print(f'Platform: {platform}, Subject: {subject_name}')\n",
    "        subject = subjects[subject_name][platform]\n",
    "        signed = subject.platformSignin()\n",
    "        debug(f'Platform: {platform}, Subject: {subject_name}, Signed: {signed}')\n",
    "        input('Press Enter to continue')"
   ]
  },
  {
   "cell_type": "code",
   "execution_count": null,
   "metadata": {},
   "outputs": [],
   "source": [
    "subject_names"
   ]
  },
  {
   "cell_type": "markdown",
   "metadata": {},
   "source": [
    "# Observation"
   ]
  },
  {
   "cell_type": "code",
   "execution_count": 7,
   "metadata": {},
   "outputs": [
    {
     "name": "stdout",
     "output_type": "stream",
     "text": [
      "\u001b[33mshuffle:\u001b[30m\t Shuffling IP for like_oscars_0\n",
      "\u001b[33msetIP:\u001b[30m\t Setting New IP: : 128.255.45.121\n",
      "\u001b[32mgetCurrentIP:\u001b[30m\t Current IP Address: 128.255.45.121\n",
      "\u001b[32mgetCurrentIP:\u001b[30m\t Current IP Address: 128.255.45.121\n",
      "\u001b[33msetIP:\u001b[30m\t IP already set\n",
      "\u001b[32mgetCurrentIP:\u001b[30m\t Current IP Address: 128.255.45.121\n",
      "\u001b[33mshuffle:\u001b[30m\t Current IP: 128.255.45.121\n",
      "\u001b[33mshuffle:\u001b[30m\t IP successfully set to 128.255.45.121\n"
     ]
    },
    {
     "ename": "WebDriverException",
     "evalue": "Message: unknown error: cannot connect to chrome at 127.0.0.1:9499\nfrom chrome not reachable\nStacktrace:\n\tGetHandleVerifier [0x00BF8C93+51395]\n\t(No symbol) [0x00B65EF1]\n\t(No symbol) [0x00A1E004]\n\t(No symbol) [0x00A11A34]\n\t(No symbol) [0x00A4940C]\n\t(No symbol) [0x00A41F15]\n\t(No symbol) [0x00A41D57]\n\t(No symbol) [0x00A7C655]\n\t(No symbol) [0x00A7C1FA]\n\t(No symbol) [0x00A73C26]\n\t(No symbol) [0x00A4C629]\n\t(No symbol) [0x00A4D40D]\n\tGetHandleVerifier [0x00F76453+3711107]\n\tGetHandleVerifier [0x00FB583A+3970154]\n\tGetHandleVerifier [0x00FB0B28+3950424]\n\tGetHandleVerifier [0x00CA9C99+776393]\n\t(No symbol) [0x00B716C4]\n\t(No symbol) [0x00B6C5A8]\n\t(No symbol) [0x00B6C759]\n\t(No symbol) [0x00B5DD80]\n\tBaseThreadInitThunk [0x75E07BA9+25]\n\tRtlInitializeExceptionChain [0x7749BD2B+107]\n\tRtlClearBits [0x7749BCAF+191]\n",
     "output_type": "error",
     "traceback": [
      "\u001b[1;31m---------------------------------------------------------------------------\u001b[0m",
      "\u001b[1;31mWebDriverException\u001b[0m                        Traceback (most recent call last)",
      "Cell \u001b[1;32mIn[7], line 5\u001b[0m\n\u001b[0;32m      3\u001b[0m IP\u001b[38;5;241m.\u001b[39mshuffle(subject_name)\n\u001b[0;32m      4\u001b[0m chrome \u001b[38;5;241m=\u001b[39m subjects[subject_name][\u001b[38;5;124m'\u001b[39m\u001b[38;5;124mYouTube\u001b[39m\u001b[38;5;124m'\u001b[39m]\n\u001b[1;32m----> 5\u001b[0m signed \u001b[38;5;241m=\u001b[39m \u001b[43mchrome\u001b[49m\u001b[38;5;241;43m.\u001b[39;49m\u001b[43mcheckChromeSignin\u001b[49m\u001b[43m(\u001b[49m\u001b[43m)\u001b[49m\n\u001b[0;32m      6\u001b[0m debug(\u001b[38;5;124mf\u001b[39m\u001b[38;5;124m'\u001b[39m\u001b[38;5;124mChrome signed in: \u001b[39m\u001b[38;5;132;01m{\u001b[39;00msigned\u001b[38;5;132;01m}\u001b[39;00m\u001b[38;5;124m'\u001b[39m)\n\u001b[0;32m      7\u001b[0m \u001b[38;5;28;01mif\u001b[39;00m \u001b[38;5;129;01mnot\u001b[39;00m signed:\n",
      "File \u001b[1;32m~\\Desktop\\sparta-aceap\\engine\\src\\experiment\\Subject.py:157\u001b[0m, in \u001b[0;36mSubject.checkChromeSignin\u001b[1;34m(self)\u001b[0m\n\u001b[0;32m    155\u001b[0m \u001b[38;5;28;01mdef\u001b[39;00m \u001b[38;5;21mcheckChromeSignin\u001b[39m(\u001b[38;5;28mself\u001b[39m):\n\u001b[0;32m    156\u001b[0m     GW \u001b[38;5;241m=\u001b[39m GoogleWorkspace()\n\u001b[1;32m--> 157\u001b[0m     signed \u001b[38;5;241m=\u001b[39m \u001b[43mGW\u001b[49m\u001b[38;5;241;43m.\u001b[39;49m\u001b[43mcheckChromeSignedIn\u001b[49m\u001b[43m(\u001b[49m\u001b[38;5;28;43mself\u001b[39;49m\u001b[38;5;241;43m.\u001b[39;49m\u001b[43memail\u001b[49m\u001b[43m)\u001b[49m\n\u001b[0;32m    158\u001b[0m     \u001b[38;5;28;01mreturn\u001b[39;00m signed\n",
      "File \u001b[1;32m~\\Desktop\\sparta-aceap\\engine\\src\\account_creation\\GoogleWorkspace.py:142\u001b[0m, in \u001b[0;36mGoogleWorkspace.checkChromeSignedIn\u001b[1;34m(self, email)\u001b[0m\n\u001b[0;32m    139\u001b[0m password \u001b[38;5;241m=\u001b[39m \u001b[38;5;124m'\u001b[39m\u001b[38;5;124mhehehahahoho\u001b[39m\u001b[38;5;124m'\u001b[39m\n\u001b[0;32m    141\u001b[0m GA \u001b[38;5;241m=\u001b[39m GoogleAccount(email, fname, lname, password, \u001b[38;5;28;01mNone\u001b[39;00m)\n\u001b[1;32m--> 142\u001b[0m isSignedIn \u001b[38;5;241m=\u001b[39m \u001b[43mGA\u001b[49m\u001b[38;5;241;43m.\u001b[39;49m\u001b[43mcheckChromeSignedIn\u001b[49m\u001b[43m(\u001b[49m\u001b[43m)\u001b[49m\n\u001b[0;32m    143\u001b[0m GA\u001b[38;5;241m.\u001b[39mcloseDriver()\n\u001b[0;32m    144\u001b[0m \u001b[38;5;28;01mif\u001b[39;00m isSignedIn:\n",
      "File \u001b[1;32m~\\Desktop\\sparta-aceap\\engine\\src\\account_creation\\GoogleAccounts.py:157\u001b[0m, in \u001b[0;36mGoogleAccount.checkChromeSignedIn\u001b[1;34m(self)\u001b[0m\n\u001b[0;32m    156\u001b[0m \u001b[38;5;28;01mdef\u001b[39;00m \u001b[38;5;21mcheckChromeSignedIn\u001b[39m(\u001b[38;5;28mself\u001b[39m):\n\u001b[1;32m--> 157\u001b[0m     \u001b[38;5;28;43mself\u001b[39;49m\u001b[38;5;241;43m.\u001b[39;49m\u001b[43mloadBrowser\u001b[49m\u001b[43m(\u001b[49m\u001b[43m)\u001b[49m\n\u001b[0;32m    158\u001b[0m     \u001b[38;5;28mself\u001b[39m\u001b[38;5;241m.\u001b[39mdriver\u001b[38;5;241m.\u001b[39mget(\u001b[38;5;124m'\u001b[39m\u001b[38;5;124mhttps://accounts.google.com/signin\u001b[39m\u001b[38;5;124m'\u001b[39m)\n\u001b[0;32m    159\u001b[0m     wait(\u001b[38;5;241m2\u001b[39m)\n",
      "File \u001b[1;32m~\\Desktop\\sparta-aceap\\engine\\src\\account_creation\\GoogleAccounts.py:21\u001b[0m, in \u001b[0;36mGoogleAccount.loadBrowser\u001b[1;34m(self)\u001b[0m\n\u001b[0;32m     19\u001b[0m \u001b[38;5;28;01mdef\u001b[39;00m \u001b[38;5;21mloadBrowser\u001b[39m(\u001b[38;5;28mself\u001b[39m):\n\u001b[0;32m     20\u001b[0m     session \u001b[38;5;241m=\u001b[39m \u001b[38;5;124mf\u001b[39m\u001b[38;5;124m'\u001b[39m\u001b[38;5;132;01m{\u001b[39;00m\u001b[38;5;28mself\u001b[39m\u001b[38;5;241m.\u001b[39mid\u001b[38;5;132;01m}\u001b[39;00m\u001b[38;5;124m'\u001b[39m\n\u001b[1;32m---> 21\u001b[0m     browser \u001b[38;5;241m=\u001b[39m \u001b[43mBrowser\u001b[49m\u001b[43m(\u001b[49m\u001b[43msession\u001b[49m\u001b[43m)\u001b[49m\n\u001b[0;32m     22\u001b[0m     \u001b[38;5;28mself\u001b[39m\u001b[38;5;241m.\u001b[39mdriver \u001b[38;5;241m=\u001b[39m browser\u001b[38;5;241m.\u001b[39mgetDriver()\n",
      "File \u001b[1;32m~\\Desktop\\sparta-aceap\\engine\\src\\browser\\Selenium.py:25\u001b[0m, in \u001b[0;36mBrowser.__init__\u001b[1;34m(self, session)\u001b[0m\n\u001b[0;32m     23\u001b[0m options\u001b[38;5;241m.\u001b[39madd_argument(\u001b[38;5;124m\"\u001b[39m\u001b[38;5;124m--disable-notifications\u001b[39m\u001b[38;5;124m\"\u001b[39m)\n\u001b[0;32m     24\u001b[0m options\u001b[38;5;241m.\u001b[39madd_argument(\u001b[38;5;124m\"\u001b[39m\u001b[38;5;124m--disable-infobars\u001b[39m\u001b[38;5;124m\"\u001b[39m)\n\u001b[1;32m---> 25\u001b[0m \u001b[38;5;28mself\u001b[39m\u001b[38;5;241m.\u001b[39mdriver \u001b[38;5;241m=\u001b[39m \u001b[43muc\u001b[49m\u001b[38;5;241;43m.\u001b[39;49m\u001b[43mChrome\u001b[49m\u001b[43m(\u001b[49m\u001b[43muser_data_dir\u001b[49m\u001b[38;5;241;43m=\u001b[39;49m\u001b[43mpath\u001b[49m\u001b[43m,\u001b[49m\u001b[43m \u001b[49m\u001b[43moptions\u001b[49m\u001b[38;5;241;43m=\u001b[39;49m\u001b[43moptions\u001b[49m\u001b[43m,\u001b[49m\u001b[43m \u001b[49m\u001b[43muse_subprocess\u001b[49m\u001b[38;5;241;43m=\u001b[39;49m\u001b[38;5;28;43;01mFalse\u001b[39;49;00m\u001b[43m)\u001b[49m\n\u001b[0;32m     26\u001b[0m sleep(\u001b[38;5;241m4\u001b[39m)\n\u001b[0;32m     27\u001b[0m monkey\u001b[38;5;241m.\u001b[39mGotIt()\n",
      "File \u001b[1;32m~\\AppData\\Local\\Packages\\PythonSoftwareFoundation.Python.3.11_qbz5n2kfra8p0\\LocalCache\\local-packages\\Python311\\site-packages\\undetected_chromedriver\\__init__.py:466\u001b[0m, in \u001b[0;36mChrome.__init__\u001b[1;34m(self, options, user_data_dir, driver_executable_path, browser_executable_path, port, enable_cdp_events, desired_capabilities, advanced_elements, keep_alive, log_level, headless, version_main, patcher_force_close, suppress_welcome, use_subprocess, debug, no_sandbox, user_multi_procs, **kw)\u001b[0m\n\u001b[0;32m    459\u001b[0m     \u001b[38;5;28mself\u001b[39m\u001b[38;5;241m.\u001b[39mbrowser_pid \u001b[38;5;241m=\u001b[39m browser\u001b[38;5;241m.\u001b[39mpid\n\u001b[0;32m    462\u001b[0m service \u001b[38;5;241m=\u001b[39m selenium\u001b[38;5;241m.\u001b[39mwebdriver\u001b[38;5;241m.\u001b[39mchromium\u001b[38;5;241m.\u001b[39mservice\u001b[38;5;241m.\u001b[39mChromiumService(\n\u001b[0;32m    463\u001b[0m     \u001b[38;5;28mself\u001b[39m\u001b[38;5;241m.\u001b[39mpatcher\u001b[38;5;241m.\u001b[39mexecutable_path\n\u001b[0;32m    464\u001b[0m )\n\u001b[1;32m--> 466\u001b[0m \u001b[38;5;28;43msuper\u001b[39;49m\u001b[43m(\u001b[49m\u001b[43mChrome\u001b[49m\u001b[43m,\u001b[49m\u001b[43m \u001b[49m\u001b[38;5;28;43mself\u001b[39;49m\u001b[43m)\u001b[49m\u001b[38;5;241;43m.\u001b[39;49m\u001b[38;5;21;43m__init__\u001b[39;49m\u001b[43m(\u001b[49m\n\u001b[0;32m    467\u001b[0m \u001b[43m    \u001b[49m\u001b[43mservice\u001b[49m\u001b[38;5;241;43m=\u001b[39;49m\u001b[43mservice\u001b[49m\u001b[43m,\u001b[49m\n\u001b[0;32m    468\u001b[0m \u001b[43m    \u001b[49m\u001b[43moptions\u001b[49m\u001b[38;5;241;43m=\u001b[39;49m\u001b[43moptions\u001b[49m\u001b[43m,\u001b[49m\n\u001b[0;32m    469\u001b[0m \u001b[43m    \u001b[49m\u001b[43mkeep_alive\u001b[49m\u001b[38;5;241;43m=\u001b[39;49m\u001b[43mkeep_alive\u001b[49m\u001b[43m,\u001b[49m\n\u001b[0;32m    470\u001b[0m \u001b[43m\u001b[49m\u001b[43m)\u001b[49m\n\u001b[0;32m    472\u001b[0m \u001b[38;5;28mself\u001b[39m\u001b[38;5;241m.\u001b[39mreactor \u001b[38;5;241m=\u001b[39m \u001b[38;5;28;01mNone\u001b[39;00m\n\u001b[0;32m    474\u001b[0m \u001b[38;5;28;01mif\u001b[39;00m enable_cdp_events:\n",
      "File \u001b[1;32m~\\AppData\\Local\\Packages\\PythonSoftwareFoundation.Python.3.11_qbz5n2kfra8p0\\LocalCache\\local-packages\\Python311\\site-packages\\selenium\\webdriver\\chrome\\webdriver.py:45\u001b[0m, in \u001b[0;36mWebDriver.__init__\u001b[1;34m(self, options, service, keep_alive)\u001b[0m\n\u001b[0;32m     42\u001b[0m service \u001b[38;5;241m=\u001b[39m service \u001b[38;5;28;01mif\u001b[39;00m service \u001b[38;5;28;01melse\u001b[39;00m Service()\n\u001b[0;32m     43\u001b[0m options \u001b[38;5;241m=\u001b[39m options \u001b[38;5;28;01mif\u001b[39;00m options \u001b[38;5;28;01melse\u001b[39;00m Options()\n\u001b[1;32m---> 45\u001b[0m \u001b[38;5;28;43msuper\u001b[39;49m\u001b[43m(\u001b[49m\u001b[43m)\u001b[49m\u001b[38;5;241;43m.\u001b[39;49m\u001b[38;5;21;43m__init__\u001b[39;49m\u001b[43m(\u001b[49m\n\u001b[0;32m     46\u001b[0m \u001b[43m    \u001b[49m\u001b[43mDesiredCapabilities\u001b[49m\u001b[38;5;241;43m.\u001b[39;49m\u001b[43mCHROME\u001b[49m\u001b[43m[\u001b[49m\u001b[38;5;124;43m\"\u001b[39;49m\u001b[38;5;124;43mbrowserName\u001b[39;49m\u001b[38;5;124;43m\"\u001b[39;49m\u001b[43m]\u001b[49m\u001b[43m,\u001b[49m\n\u001b[0;32m     47\u001b[0m \u001b[43m    \u001b[49m\u001b[38;5;124;43m\"\u001b[39;49m\u001b[38;5;124;43mgoog\u001b[39;49m\u001b[38;5;124;43m\"\u001b[39;49m\u001b[43m,\u001b[49m\n\u001b[0;32m     48\u001b[0m \u001b[43m    \u001b[49m\u001b[43moptions\u001b[49m\u001b[43m,\u001b[49m\n\u001b[0;32m     49\u001b[0m \u001b[43m    \u001b[49m\u001b[43mservice\u001b[49m\u001b[43m,\u001b[49m\n\u001b[0;32m     50\u001b[0m \u001b[43m    \u001b[49m\u001b[43mkeep_alive\u001b[49m\u001b[43m,\u001b[49m\n\u001b[0;32m     51\u001b[0m \u001b[43m\u001b[49m\u001b[43m)\u001b[49m\n",
      "File \u001b[1;32m~\\AppData\\Local\\Packages\\PythonSoftwareFoundation.Python.3.11_qbz5n2kfra8p0\\LocalCache\\local-packages\\Python311\\site-packages\\selenium\\webdriver\\chromium\\webdriver.py:56\u001b[0m, in \u001b[0;36mChromiumDriver.__init__\u001b[1;34m(self, browser_name, vendor_prefix, options, service, keep_alive)\u001b[0m\n\u001b[0;32m     53\u001b[0m \u001b[38;5;28mself\u001b[39m\u001b[38;5;241m.\u001b[39mservice\u001b[38;5;241m.\u001b[39mstart()\n\u001b[0;32m     55\u001b[0m \u001b[38;5;28;01mtry\u001b[39;00m:\n\u001b[1;32m---> 56\u001b[0m     \u001b[38;5;28;43msuper\u001b[39;49m\u001b[43m(\u001b[49m\u001b[43m)\u001b[49m\u001b[38;5;241;43m.\u001b[39;49m\u001b[38;5;21;43m__init__\u001b[39;49m\u001b[43m(\u001b[49m\n\u001b[0;32m     57\u001b[0m \u001b[43m        \u001b[49m\u001b[43mcommand_executor\u001b[49m\u001b[38;5;241;43m=\u001b[39;49m\u001b[43mChromiumRemoteConnection\u001b[49m\u001b[43m(\u001b[49m\n\u001b[0;32m     58\u001b[0m \u001b[43m            \u001b[49m\u001b[43mremote_server_addr\u001b[49m\u001b[38;5;241;43m=\u001b[39;49m\u001b[38;5;28;43mself\u001b[39;49m\u001b[38;5;241;43m.\u001b[39;49m\u001b[43mservice\u001b[49m\u001b[38;5;241;43m.\u001b[39;49m\u001b[43mservice_url\u001b[49m\u001b[43m,\u001b[49m\n\u001b[0;32m     59\u001b[0m \u001b[43m            \u001b[49m\u001b[43mbrowser_name\u001b[49m\u001b[38;5;241;43m=\u001b[39;49m\u001b[43mbrowser_name\u001b[49m\u001b[43m,\u001b[49m\n\u001b[0;32m     60\u001b[0m \u001b[43m            \u001b[49m\u001b[43mvendor_prefix\u001b[49m\u001b[38;5;241;43m=\u001b[39;49m\u001b[43mvendor_prefix\u001b[49m\u001b[43m,\u001b[49m\n\u001b[0;32m     61\u001b[0m \u001b[43m            \u001b[49m\u001b[43mkeep_alive\u001b[49m\u001b[38;5;241;43m=\u001b[39;49m\u001b[43mkeep_alive\u001b[49m\u001b[43m,\u001b[49m\n\u001b[0;32m     62\u001b[0m \u001b[43m            \u001b[49m\u001b[43mignore_proxy\u001b[49m\u001b[38;5;241;43m=\u001b[39;49m\u001b[43moptions\u001b[49m\u001b[38;5;241;43m.\u001b[39;49m\u001b[43m_ignore_local_proxy\u001b[49m\u001b[43m,\u001b[49m\n\u001b[0;32m     63\u001b[0m \u001b[43m        \u001b[49m\u001b[43m)\u001b[49m\u001b[43m,\u001b[49m\n\u001b[0;32m     64\u001b[0m \u001b[43m        \u001b[49m\u001b[43moptions\u001b[49m\u001b[38;5;241;43m=\u001b[39;49m\u001b[43moptions\u001b[49m\u001b[43m,\u001b[49m\n\u001b[0;32m     65\u001b[0m \u001b[43m    \u001b[49m\u001b[43m)\u001b[49m\n\u001b[0;32m     66\u001b[0m \u001b[38;5;28;01mexcept\u001b[39;00m \u001b[38;5;167;01mException\u001b[39;00m:\n\u001b[0;32m     67\u001b[0m     \u001b[38;5;28mself\u001b[39m\u001b[38;5;241m.\u001b[39mquit()\n",
      "File \u001b[1;32m~\\AppData\\Local\\Packages\\PythonSoftwareFoundation.Python.3.11_qbz5n2kfra8p0\\LocalCache\\local-packages\\Python311\\site-packages\\selenium\\webdriver\\remote\\webdriver.py:205\u001b[0m, in \u001b[0;36mWebDriver.__init__\u001b[1;34m(self, command_executor, keep_alive, file_detector, options)\u001b[0m\n\u001b[0;32m    203\u001b[0m \u001b[38;5;28mself\u001b[39m\u001b[38;5;241m.\u001b[39m_authenticator_id \u001b[38;5;241m=\u001b[39m \u001b[38;5;28;01mNone\u001b[39;00m\n\u001b[0;32m    204\u001b[0m \u001b[38;5;28mself\u001b[39m\u001b[38;5;241m.\u001b[39mstart_client()\n\u001b[1;32m--> 205\u001b[0m \u001b[38;5;28;43mself\u001b[39;49m\u001b[38;5;241;43m.\u001b[39;49m\u001b[43mstart_session\u001b[49m\u001b[43m(\u001b[49m\u001b[43mcapabilities\u001b[49m\u001b[43m)\u001b[49m\n",
      "File \u001b[1;32m~\\AppData\\Local\\Packages\\PythonSoftwareFoundation.Python.3.11_qbz5n2kfra8p0\\LocalCache\\local-packages\\Python311\\site-packages\\undetected_chromedriver\\__init__.py:724\u001b[0m, in \u001b[0;36mChrome.start_session\u001b[1;34m(self, capabilities, browser_profile)\u001b[0m\n\u001b[0;32m    722\u001b[0m \u001b[38;5;28;01mif\u001b[39;00m \u001b[38;5;129;01mnot\u001b[39;00m capabilities:\n\u001b[0;32m    723\u001b[0m     capabilities \u001b[38;5;241m=\u001b[39m \u001b[38;5;28mself\u001b[39m\u001b[38;5;241m.\u001b[39moptions\u001b[38;5;241m.\u001b[39mto_capabilities()\n\u001b[1;32m--> 724\u001b[0m \u001b[38;5;28;43msuper\u001b[39;49m\u001b[43m(\u001b[49m\u001b[43mselenium\u001b[49m\u001b[38;5;241;43m.\u001b[39;49m\u001b[43mwebdriver\u001b[49m\u001b[38;5;241;43m.\u001b[39;49m\u001b[43mchrome\u001b[49m\u001b[38;5;241;43m.\u001b[39;49m\u001b[43mwebdriver\u001b[49m\u001b[38;5;241;43m.\u001b[39;49m\u001b[43mWebDriver\u001b[49m\u001b[43m,\u001b[49m\u001b[43m \u001b[49m\u001b[38;5;28;43mself\u001b[39;49m\u001b[43m)\u001b[49m\u001b[38;5;241;43m.\u001b[39;49m\u001b[43mstart_session\u001b[49m\u001b[43m(\u001b[49m\n\u001b[0;32m    725\u001b[0m \u001b[43m    \u001b[49m\u001b[43mcapabilities\u001b[49m\n\u001b[0;32m    726\u001b[0m \u001b[43m\u001b[49m\u001b[43m)\u001b[49m\n",
      "File \u001b[1;32m~\\AppData\\Local\\Packages\\PythonSoftwareFoundation.Python.3.11_qbz5n2kfra8p0\\LocalCache\\local-packages\\Python311\\site-packages\\selenium\\webdriver\\remote\\webdriver.py:289\u001b[0m, in \u001b[0;36mWebDriver.start_session\u001b[1;34m(self, capabilities)\u001b[0m\n\u001b[0;32m    282\u001b[0m \u001b[38;5;250m\u001b[39m\u001b[38;5;124;03m\"\"\"Creates a new session with the desired capabilities.\u001b[39;00m\n\u001b[0;32m    283\u001b[0m \n\u001b[0;32m    284\u001b[0m \u001b[38;5;124;03m:Args:\u001b[39;00m\n\u001b[0;32m    285\u001b[0m \u001b[38;5;124;03m - capabilities - a capabilities dict to start the session with.\u001b[39;00m\n\u001b[0;32m    286\u001b[0m \u001b[38;5;124;03m\"\"\"\u001b[39;00m\n\u001b[0;32m    288\u001b[0m caps \u001b[38;5;241m=\u001b[39m _create_caps(capabilities)\n\u001b[1;32m--> 289\u001b[0m response \u001b[38;5;241m=\u001b[39m \u001b[38;5;28;43mself\u001b[39;49m\u001b[38;5;241;43m.\u001b[39;49m\u001b[43mexecute\u001b[49m\u001b[43m(\u001b[49m\u001b[43mCommand\u001b[49m\u001b[38;5;241;43m.\u001b[39;49m\u001b[43mNEW_SESSION\u001b[49m\u001b[43m,\u001b[49m\u001b[43m \u001b[49m\u001b[43mcaps\u001b[49m\u001b[43m)\u001b[49m[\u001b[38;5;124m\"\u001b[39m\u001b[38;5;124mvalue\u001b[39m\u001b[38;5;124m\"\u001b[39m]\n\u001b[0;32m    290\u001b[0m \u001b[38;5;28mself\u001b[39m\u001b[38;5;241m.\u001b[39msession_id \u001b[38;5;241m=\u001b[39m response\u001b[38;5;241m.\u001b[39mget(\u001b[38;5;124m\"\u001b[39m\u001b[38;5;124msessionId\u001b[39m\u001b[38;5;124m\"\u001b[39m)\n\u001b[0;32m    291\u001b[0m \u001b[38;5;28mself\u001b[39m\u001b[38;5;241m.\u001b[39mcaps \u001b[38;5;241m=\u001b[39m response\u001b[38;5;241m.\u001b[39mget(\u001b[38;5;124m\"\u001b[39m\u001b[38;5;124mcapabilities\u001b[39m\u001b[38;5;124m\"\u001b[39m)\n",
      "File \u001b[1;32m~\\AppData\\Local\\Packages\\PythonSoftwareFoundation.Python.3.11_qbz5n2kfra8p0\\LocalCache\\local-packages\\Python311\\site-packages\\selenium\\webdriver\\remote\\webdriver.py:344\u001b[0m, in \u001b[0;36mWebDriver.execute\u001b[1;34m(self, driver_command, params)\u001b[0m\n\u001b[0;32m    342\u001b[0m response \u001b[38;5;241m=\u001b[39m \u001b[38;5;28mself\u001b[39m\u001b[38;5;241m.\u001b[39mcommand_executor\u001b[38;5;241m.\u001b[39mexecute(driver_command, params)\n\u001b[0;32m    343\u001b[0m \u001b[38;5;28;01mif\u001b[39;00m response:\n\u001b[1;32m--> 344\u001b[0m     \u001b[38;5;28;43mself\u001b[39;49m\u001b[38;5;241;43m.\u001b[39;49m\u001b[43merror_handler\u001b[49m\u001b[38;5;241;43m.\u001b[39;49m\u001b[43mcheck_response\u001b[49m\u001b[43m(\u001b[49m\u001b[43mresponse\u001b[49m\u001b[43m)\u001b[49m\n\u001b[0;32m    345\u001b[0m     response[\u001b[38;5;124m\"\u001b[39m\u001b[38;5;124mvalue\u001b[39m\u001b[38;5;124m\"\u001b[39m] \u001b[38;5;241m=\u001b[39m \u001b[38;5;28mself\u001b[39m\u001b[38;5;241m.\u001b[39m_unwrap_value(response\u001b[38;5;241m.\u001b[39mget(\u001b[38;5;124m\"\u001b[39m\u001b[38;5;124mvalue\u001b[39m\u001b[38;5;124m\"\u001b[39m, \u001b[38;5;28;01mNone\u001b[39;00m))\n\u001b[0;32m    346\u001b[0m     \u001b[38;5;28;01mreturn\u001b[39;00m response\n",
      "File \u001b[1;32m~\\AppData\\Local\\Packages\\PythonSoftwareFoundation.Python.3.11_qbz5n2kfra8p0\\LocalCache\\local-packages\\Python311\\site-packages\\selenium\\webdriver\\remote\\errorhandler.py:229\u001b[0m, in \u001b[0;36mErrorHandler.check_response\u001b[1;34m(self, response)\u001b[0m\n\u001b[0;32m    227\u001b[0m         alert_text \u001b[38;5;241m=\u001b[39m value[\u001b[38;5;124m\"\u001b[39m\u001b[38;5;124malert\u001b[39m\u001b[38;5;124m\"\u001b[39m]\u001b[38;5;241m.\u001b[39mget(\u001b[38;5;124m\"\u001b[39m\u001b[38;5;124mtext\u001b[39m\u001b[38;5;124m\"\u001b[39m)\n\u001b[0;32m    228\u001b[0m     \u001b[38;5;28;01mraise\u001b[39;00m exception_class(message, screen, stacktrace, alert_text)  \u001b[38;5;66;03m# type: ignore[call-arg]  # mypy is not smart enough here\u001b[39;00m\n\u001b[1;32m--> 229\u001b[0m \u001b[38;5;28;01mraise\u001b[39;00m exception_class(message, screen, stacktrace)\n",
      "\u001b[1;31mWebDriverException\u001b[0m: Message: unknown error: cannot connect to chrome at 127.0.0.1:9499\nfrom chrome not reachable\nStacktrace:\n\tGetHandleVerifier [0x00BF8C93+51395]\n\t(No symbol) [0x00B65EF1]\n\t(No symbol) [0x00A1E004]\n\t(No symbol) [0x00A11A34]\n\t(No symbol) [0x00A4940C]\n\t(No symbol) [0x00A41F15]\n\t(No symbol) [0x00A41D57]\n\t(No symbol) [0x00A7C655]\n\t(No symbol) [0x00A7C1FA]\n\t(No symbol) [0x00A73C26]\n\t(No symbol) [0x00A4C629]\n\t(No symbol) [0x00A4D40D]\n\tGetHandleVerifier [0x00F76453+3711107]\n\tGetHandleVerifier [0x00FB583A+3970154]\n\tGetHandleVerifier [0x00FB0B28+3950424]\n\tGetHandleVerifier [0x00CA9C99+776393]\n\t(No symbol) [0x00B716C4]\n\t(No symbol) [0x00B6C5A8]\n\t(No symbol) [0x00B6C759]\n\t(No symbol) [0x00B5DD80]\n\tBaseThreadInitThunk [0x75E07BA9+25]\n\tRtlInitializeExceptionChain [0x7749BD2B+107]\n\tRtlClearBits [0x7749BCAF+191]\n"
     ]
    }
   ],
   "source": [
    "subject_names = list(subjects.keys())\n",
    "for subject_name in subject_names:\n",
    "    IP.shuffle(subject_name)\n",
    "    chrome = subjects[subject_name]['YouTube']\n",
    "    signed = chrome.checkChromeSignin()\n",
    "    debug(f'Chrome signed in: {signed}')\n",
    "    if not signed:\n",
    "        error(f'Chrome not signed in: {subject_name}')\n",
    "        chrome.chromeSignIn()\n",
    "\n",
    "    for platform in platforms:\n",
    "        print(f'Platform: {platform}, Subject: {subject_name}')\n",
    "        subject = subjects[subject_name][platform]\n",
    "        debug(f'Checking signin for {subject_name} on {platform}')\n",
    "        wait(3)\n",
    "        if not subject.checkSignin():\n",
    "            error(f'{subject_name} not signed in on {platform}')\n",
    "            error(f'Attempting to sign in {subject_name} on {platform}')\n",
    "            wait(3)\n",
    "            try:\n",
    "                subject.platformSignIn()\n",
    "            except Exception as e:\n",
    "                error(f'Error signing in {subject_name} on {platform}')\n",
    "                error(e)\n",
    "                continue\n",
    "            wait(3)\n",
    "\n",
    "        try:\n",
    "            debug(f'Observing {subject_name} on {platform}')\n",
    "            subject.observe(pre=False)\n",
    "        except Exception as e:\n",
    "            error(f'Error observing {subject_name} on {platform}')\n",
    "            error(e)\n",
    "    bigWait(10)"
   ]
  },
  {
   "cell_type": "markdown",
   "metadata": {},
   "source": [
    "# Treatment"
   ]
  },
  {
   "cell_type": "code",
   "execution_count": null,
   "metadata": {},
   "outputs": [],
   "source": [
    "subject_names = list(subjects.keys())\n",
    "for subject_name in subject_names[2:]:\n",
    "    IP.shuffle(subject_name)\n",
    "    chrome = subjects[subject_name]['YouTube']\n",
    "    signed = chrome.checkChromeSignin()\n",
    "    debug(f'Chrome signed in: {signed}')\n",
    "    if not signed:\n",
    "        error(f'Chrome not signed in: {subject_name}')\n",
    "        chrome.chromeSignIn()\n",
    "\n",
    "    for platform in platforms:\n",
    "        print(f'Platform: {platform}, Subject: {subject_name}')\n",
    "        subject = subjects[subject_name][platform]\n",
    "        debug(f'Checking signin for {subject_name} on {platform}')\n",
    "        wait(3)\n",
    "        if not subject.checkSignin():\n",
    "            error(f'{subject_name} not signed in on {platform}')\n",
    "            error(f'Attempting to sign in {subject_name} on {platform}')\n",
    "            wait(3)\n",
    "            try:\n",
    "                subject.platformSignIn()\n",
    "            except Exception as e:\n",
    "                subject.close()\n",
    "                error(f'Error signing in {subject_name} on {platform}')\n",
    "                error(e)\n",
    "                continue\n",
    "            wait(3)\n",
    "\n",
    "        try:\n",
    "            debug(f'Treatment {subject_name} on {platform}')\n",
    "            subject.treatment()\n",
    "        except Exception as e:\n",
    "            error(f'Error observing {subject_name} on {platform}')\n",
    "            error(e)\n",
    "    bigWait(10)"
   ]
  },
  {
   "cell_type": "code",
   "execution_count": null,
   "metadata": {},
   "outputs": [],
   "source": [
    "subject_names = list(subjects.keys())\n",
    "for subject_name in subject_names:\n",
    "    IP.shuffle(subject_name)\n",
    "    chrome = subjects[subject_name]['YouTube']\n",
    "    signed = chrome.checkChromeSignin()\n",
    "    debug(f'Chrome signed in: {signed}')\n",
    "    if not signed:\n",
    "        error(f'Chrome not signed in: {subject_name}')\n",
    "        chrome.chromeSignIn()\n",
    "\n",
    "    for platform in platforms:\n",
    "        print(f'Platform: {platform}, Subject: {subject_name}')\n",
    "        subject = subjects[subject_name][platform]\n",
    "        debug(f'Checking signin for {subject_name} on {platform}')\n",
    "        wait(3)\n",
    "        if not subject.checkSignin():\n",
    "            error(f'{subject_name} not signed in on {platform}')\n",
    "            error(f'Attempting to sign in {subject_name} on {platform}')\n",
    "            wait(3)\n",
    "            try:\n",
    "                subject.platformSignIn()\n",
    "            except Exception as e:\n",
    "                error(f'Error signing in {subject_name} on {platform}')\n",
    "                error(e)\n",
    "                continue\n",
    "            wait(3)\n",
    "\n",
    "        try:\n",
    "            debug(f'Observing {subject_name} on {platform}')\n",
    "            subject.observe(pre=True)\n",
    "        except Exception as e:\n",
    "            error(f'Error observing {subject_name} on {platform}')\n",
    "            error(e)\n",
    "    bigWait(5)"
   ]
  },
  {
   "cell_type": "code",
   "execution_count": null,
   "metadata": {},
   "outputs": [],
   "source": [
    "treatments = dict()\n",
    "subject_names = list(subjects.keys())\n",
    "for subject_name in subject_names:\n",
    "    treatments[subject_name] = dict()\n",
    "    for platform in subjects[subject_name]:\n",
    "        try:\n",
    "            treatments[subject_name][platform] = subject.get_treatments()\n",
    "        except Exception as e:\n",
    "            error(e)"
   ]
  },
  {
   "cell_type": "code",
   "execution_count": null,
   "metadata": {},
   "outputs": [],
   "source": []
  },
  {
   "cell_type": "code",
   "execution_count": null,
   "metadata": {},
   "outputs": [],
   "source": [
    "import pickle as pkl\n",
    "import pandas as pd\n",
    "import json\n",
    "import sqlite3 as sql\n",
    "\n",
    "from experiment.Experiment import Experiment\n",
    "from experiment.Subject import Subject\n",
    "\n",
    "def uploadResults(platform):\n",
    "    config_file = 'config.json'\n",
    "    config = json.load(open(config_file, 'r'))\n",
    "    experiment = Experiment(config_file, platform)\n",
    "    subjects = experiment.get_subjects()\n",
    "\n",
    "    users = []\n",
    "    for user in subjects:\n",
    "        treatments = user.get_treatments()\n",
    "        for tick in treatments:\n",
    "            pre, post = user.get_observations(tick)\n",
    "            treatments[tick]['pre'] = pre\n",
    "            treatments[tick]['post'] = post\n",
    "\n",
    "        users.append(treatments)\n",
    "\n",
    "    pkl.dump(users, open(f'{platform}-results.pkl', 'wb'))\n",
    "\n",
    "    return users"
   ]
  }
 ],
 "metadata": {
  "kernelspec": {
   "display_name": "Python 3",
   "language": "python",
   "name": "python3"
  },
  "language_info": {
   "codemirror_mode": {
    "name": "ipython",
    "version": 3
   },
   "file_extension": ".py",
   "mimetype": "text/x-python",
   "name": "python",
   "nbconvert_exporter": "python",
   "pygments_lexer": "ipython3",
   "version": "3.11.8"
  }
 },
 "nbformat": 4,
 "nbformat_minor": 2
}
